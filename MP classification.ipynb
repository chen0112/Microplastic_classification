{
 "cells": [
  {
   "cell_type": "code",
   "execution_count": 1,
   "metadata": {},
   "outputs": [],
   "source": [
    "import matplotlib.pyplot as plt\n",
    "import numpy as np\n",
    "import cv2\n",
    "import os\n",
    "import PIL\n",
    "import tensorflow as tf\n",
    "\n",
    "from tensorflow import keras\n",
    "from tensorflow.keras import layers\n",
    "from tensorflow.keras.models import Sequential\n",
    "import pathlib"
   ]
  },
  {
   "cell_type": "code",
   "execution_count": 12,
   "metadata": {},
   "outputs": [
    {
     "data": {
      "text/plain": [
       "WindowsPath('MP_image/GANS')"
      ]
     },
     "execution_count": 12,
     "metadata": {},
     "output_type": "execute_result"
    }
   ],
   "source": [
    "data_dir = './MP_image/GANS'\n",
    "\n",
    "data_dir=pathlib.Path(data_dir)\n",
    "data_dir"
   ]
  },
  {
   "cell_type": "code",
   "execution_count": 13,
   "metadata": {
    "scrolled": true
   },
   "outputs": [],
   "source": [
    "before21 = list(data_dir.glob('before21/*'))"
   ]
  },
  {
   "cell_type": "code",
   "execution_count": 14,
   "metadata": {},
   "outputs": [
    {
     "data": {
      "text/plain": [
       "[WindowsPath('MP_image/GANS/before21/before21_0_1052.tif'),\n",
       " WindowsPath('MP_image/GANS/before21/before21_0_1087.tif'),\n",
       " WindowsPath('MP_image/GANS/before21/before21_0_1152.tif'),\n",
       " WindowsPath('MP_image/GANS/before21/before21_0_1168.tif'),\n",
       " WindowsPath('MP_image/GANS/before21/before21_0_1195.tif'),\n",
       " WindowsPath('MP_image/GANS/before21/before21_0_1200.tif'),\n",
       " WindowsPath('MP_image/GANS/before21/before21_0_1309.tif'),\n",
       " WindowsPath('MP_image/GANS/before21/before21_0_1374.tif'),\n",
       " WindowsPath('MP_image/GANS/before21/before21_0_1452.tif'),\n",
       " WindowsPath('MP_image/GANS/before21/before21_0_1458.tif'),\n",
       " WindowsPath('MP_image/GANS/before21/before21_0_1483.tif'),\n",
       " WindowsPath('MP_image/GANS/before21/before21_0_1511.tif'),\n",
       " WindowsPath('MP_image/GANS/before21/before21_0_1526.tif'),\n",
       " WindowsPath('MP_image/GANS/before21/before21_0_1533.tif'),\n",
       " WindowsPath('MP_image/GANS/before21/before21_0_1566.tif'),\n",
       " WindowsPath('MP_image/GANS/before21/before21_0_1584.tif'),\n",
       " WindowsPath('MP_image/GANS/before21/before21_0_1589.tif'),\n",
       " WindowsPath('MP_image/GANS/before21/before21_0_1627.tif'),\n",
       " WindowsPath('MP_image/GANS/before21/before21_0_1640.tif'),\n",
       " WindowsPath('MP_image/GANS/before21/before21_0_1651.tif'),\n",
       " WindowsPath('MP_image/GANS/before21/before21_0_1669.tif'),\n",
       " WindowsPath('MP_image/GANS/before21/before21_0_1696.tif'),\n",
       " WindowsPath('MP_image/GANS/before21/before21_0_1750.tif'),\n",
       " WindowsPath('MP_image/GANS/before21/before21_0_1804.tif'),\n",
       " WindowsPath('MP_image/GANS/before21/before21_0_1811.tif'),\n",
       " WindowsPath('MP_image/GANS/before21/before21_0_1854.tif'),\n",
       " WindowsPath('MP_image/GANS/before21/before21_0_1862.tif'),\n",
       " WindowsPath('MP_image/GANS/before21/before21_0_1867.tif'),\n",
       " WindowsPath('MP_image/GANS/before21/before21_0_1885.tif'),\n",
       " WindowsPath('MP_image/GANS/before21/before21_0_190.tif'),\n",
       " WindowsPath('MP_image/GANS/before21/before21_0_1927.tif'),\n",
       " WindowsPath('MP_image/GANS/before21/before21_0_196.tif'),\n",
       " WindowsPath('MP_image/GANS/before21/before21_0_2024.tif'),\n",
       " WindowsPath('MP_image/GANS/before21/before21_0_2114.tif'),\n",
       " WindowsPath('MP_image/GANS/before21/before21_0_2115.tif'),\n",
       " WindowsPath('MP_image/GANS/before21/before21_0_216.tif'),\n",
       " WindowsPath('MP_image/GANS/before21/before21_0_2165.tif'),\n",
       " WindowsPath('MP_image/GANS/before21/before21_0_2232.tif'),\n",
       " WindowsPath('MP_image/GANS/before21/before21_0_2241.tif'),\n",
       " WindowsPath('MP_image/GANS/before21/before21_0_2253.tif'),\n",
       " WindowsPath('MP_image/GANS/before21/before21_0_2254.tif'),\n",
       " WindowsPath('MP_image/GANS/before21/before21_0_2268.tif'),\n",
       " WindowsPath('MP_image/GANS/before21/before21_0_228.tif'),\n",
       " WindowsPath('MP_image/GANS/before21/before21_0_2388.tif'),\n",
       " WindowsPath('MP_image/GANS/before21/before21_0_2390.tif'),\n",
       " WindowsPath('MP_image/GANS/before21/before21_0_2399.tif'),\n",
       " WindowsPath('MP_image/GANS/before21/before21_0_2431.tif'),\n",
       " WindowsPath('MP_image/GANS/before21/before21_0_245.tif'),\n",
       " WindowsPath('MP_image/GANS/before21/before21_0_255.tif'),\n",
       " WindowsPath('MP_image/GANS/before21/before21_0_2557.tif'),\n",
       " WindowsPath('MP_image/GANS/before21/before21_0_256.tif'),\n",
       " WindowsPath('MP_image/GANS/before21/before21_0_260.tif'),\n",
       " WindowsPath('MP_image/GANS/before21/before21_0_2602.tif'),\n",
       " WindowsPath('MP_image/GANS/before21/before21_0_2603.tif'),\n",
       " WindowsPath('MP_image/GANS/before21/before21_0_2606.tif'),\n",
       " WindowsPath('MP_image/GANS/before21/before21_0_2617.tif'),\n",
       " WindowsPath('MP_image/GANS/before21/before21_0_2638.tif'),\n",
       " WindowsPath('MP_image/GANS/before21/before21_0_2706.tif'),\n",
       " WindowsPath('MP_image/GANS/before21/before21_0_2750.tif'),\n",
       " WindowsPath('MP_image/GANS/before21/before21_0_2757.tif'),\n",
       " WindowsPath('MP_image/GANS/before21/before21_0_2764.tif'),\n",
       " WindowsPath('MP_image/GANS/before21/before21_0_2796.tif'),\n",
       " WindowsPath('MP_image/GANS/before21/before21_0_2798.tif'),\n",
       " WindowsPath('MP_image/GANS/before21/before21_0_2830.tif'),\n",
       " WindowsPath('MP_image/GANS/before21/before21_0_2832.tif'),\n",
       " WindowsPath('MP_image/GANS/before21/before21_0_2846.tif'),\n",
       " WindowsPath('MP_image/GANS/before21/before21_0_2866.tif'),\n",
       " WindowsPath('MP_image/GANS/before21/before21_0_2927.tif'),\n",
       " WindowsPath('MP_image/GANS/before21/before21_0_2928.tif'),\n",
       " WindowsPath('MP_image/GANS/before21/before21_0_2930.tif'),\n",
       " WindowsPath('MP_image/GANS/before21/before21_0_2935.tif'),\n",
       " WindowsPath('MP_image/GANS/before21/before21_0_2967.tif'),\n",
       " WindowsPath('MP_image/GANS/before21/before21_0_3016.tif'),\n",
       " WindowsPath('MP_image/GANS/before21/before21_0_3027.tif'),\n",
       " WindowsPath('MP_image/GANS/before21/before21_0_3029.tif'),\n",
       " WindowsPath('MP_image/GANS/before21/before21_0_3059.tif'),\n",
       " WindowsPath('MP_image/GANS/before21/before21_0_3060.tif'),\n",
       " WindowsPath('MP_image/GANS/before21/before21_0_3079.tif'),\n",
       " WindowsPath('MP_image/GANS/before21/before21_0_3100.tif'),\n",
       " WindowsPath('MP_image/GANS/before21/before21_0_3169.tif'),\n",
       " WindowsPath('MP_image/GANS/before21/before21_0_317.tif'),\n",
       " WindowsPath('MP_image/GANS/before21/before21_0_3185.tif'),\n",
       " WindowsPath('MP_image/GANS/before21/before21_0_3187.tif'),\n",
       " WindowsPath('MP_image/GANS/before21/before21_0_3210.tif'),\n",
       " WindowsPath('MP_image/GANS/before21/before21_0_324.tif'),\n",
       " WindowsPath('MP_image/GANS/before21/before21_0_3243.tif'),\n",
       " WindowsPath('MP_image/GANS/before21/before21_0_3280.tif'),\n",
       " WindowsPath('MP_image/GANS/before21/before21_0_3309.tif'),\n",
       " WindowsPath('MP_image/GANS/before21/before21_0_331.tif'),\n",
       " WindowsPath('MP_image/GANS/before21/before21_0_3325.tif'),\n",
       " WindowsPath('MP_image/GANS/before21/before21_0_3361.tif'),\n",
       " WindowsPath('MP_image/GANS/before21/before21_0_3364.tif'),\n",
       " WindowsPath('MP_image/GANS/before21/before21_0_3369.tif'),\n",
       " WindowsPath('MP_image/GANS/before21/before21_0_3385.tif'),\n",
       " WindowsPath('MP_image/GANS/before21/before21_0_3393.tif'),\n",
       " WindowsPath('MP_image/GANS/before21/before21_0_342.tif'),\n",
       " WindowsPath('MP_image/GANS/before21/before21_0_3498.tif'),\n",
       " WindowsPath('MP_image/GANS/before21/before21_0_3517.tif'),\n",
       " WindowsPath('MP_image/GANS/before21/before21_0_3528.tif'),\n",
       " WindowsPath('MP_image/GANS/before21/before21_0_3673.tif'),\n",
       " WindowsPath('MP_image/GANS/before21/before21_0_3713.tif'),\n",
       " WindowsPath('MP_image/GANS/before21/before21_0_3758.tif'),\n",
       " WindowsPath('MP_image/GANS/before21/before21_0_3780.tif'),\n",
       " WindowsPath('MP_image/GANS/before21/before21_0_381.tif'),\n",
       " WindowsPath('MP_image/GANS/before21/before21_0_3834.tif'),\n",
       " WindowsPath('MP_image/GANS/before21/before21_0_3838.tif'),\n",
       " WindowsPath('MP_image/GANS/before21/before21_0_3854.tif'),\n",
       " WindowsPath('MP_image/GANS/before21/before21_0_3883.tif'),\n",
       " WindowsPath('MP_image/GANS/before21/before21_0_3884.tif'),\n",
       " WindowsPath('MP_image/GANS/before21/before21_0_3887.tif'),\n",
       " WindowsPath('MP_image/GANS/before21/before21_0_3914.tif'),\n",
       " WindowsPath('MP_image/GANS/before21/before21_0_3942.tif'),\n",
       " WindowsPath('MP_image/GANS/before21/before21_0_3959.tif'),\n",
       " WindowsPath('MP_image/GANS/before21/before21_0_3964.tif'),\n",
       " WindowsPath('MP_image/GANS/before21/before21_0_3995.tif'),\n",
       " WindowsPath('MP_image/GANS/before21/before21_0_402.tif'),\n",
       " WindowsPath('MP_image/GANS/before21/before21_0_403.tif'),\n",
       " WindowsPath('MP_image/GANS/before21/before21_0_4081.tif'),\n",
       " WindowsPath('MP_image/GANS/before21/before21_0_4087.tif'),\n",
       " WindowsPath('MP_image/GANS/before21/before21_0_4109.tif'),\n",
       " WindowsPath('MP_image/GANS/before21/before21_0_4191.tif'),\n",
       " WindowsPath('MP_image/GANS/before21/before21_0_4226.tif'),\n",
       " WindowsPath('MP_image/GANS/before21/before21_0_4227.tif'),\n",
       " WindowsPath('MP_image/GANS/before21/before21_0_423.tif'),\n",
       " WindowsPath('MP_image/GANS/before21/before21_0_4244.tif'),\n",
       " WindowsPath('MP_image/GANS/before21/before21_0_4268.tif'),\n",
       " WindowsPath('MP_image/GANS/before21/before21_0_4284.tif'),\n",
       " WindowsPath('MP_image/GANS/before21/before21_0_4399.tif'),\n",
       " WindowsPath('MP_image/GANS/before21/before21_0_4407.tif'),\n",
       " WindowsPath('MP_image/GANS/before21/before21_0_4411.tif'),\n",
       " WindowsPath('MP_image/GANS/before21/before21_0_4440.tif'),\n",
       " WindowsPath('MP_image/GANS/before21/before21_0_4467.tif'),\n",
       " WindowsPath('MP_image/GANS/before21/before21_0_4490.tif'),\n",
       " WindowsPath('MP_image/GANS/before21/before21_0_459.tif'),\n",
       " WindowsPath('MP_image/GANS/before21/before21_0_4613.tif'),\n",
       " WindowsPath('MP_image/GANS/before21/before21_0_465.tif'),\n",
       " WindowsPath('MP_image/GANS/before21/before21_0_4692.tif'),\n",
       " WindowsPath('MP_image/GANS/before21/before21_0_4736.tif'),\n",
       " WindowsPath('MP_image/GANS/before21/before21_0_4739.tif'),\n",
       " WindowsPath('MP_image/GANS/before21/before21_0_4742.tif'),\n",
       " WindowsPath('MP_image/GANS/before21/before21_0_4845.tif'),\n",
       " WindowsPath('MP_image/GANS/before21/before21_0_4857.tif'),\n",
       " WindowsPath('MP_image/GANS/before21/before21_0_487.tif'),\n",
       " WindowsPath('MP_image/GANS/before21/before21_0_4880.tif'),\n",
       " WindowsPath('MP_image/GANS/before21/before21_0_4913.tif'),\n",
       " WindowsPath('MP_image/GANS/before21/before21_0_4963.tif'),\n",
       " WindowsPath('MP_image/GANS/before21/before21_0_4971.tif'),\n",
       " WindowsPath('MP_image/GANS/before21/before21_0_4972.tif'),\n",
       " WindowsPath('MP_image/GANS/before21/before21_0_502.tif'),\n",
       " WindowsPath('MP_image/GANS/before21/before21_0_5037.tif'),\n",
       " WindowsPath('MP_image/GANS/before21/before21_0_514.tif'),\n",
       " WindowsPath('MP_image/GANS/before21/before21_0_515.tif'),\n",
       " WindowsPath('MP_image/GANS/before21/before21_0_5208.tif'),\n",
       " WindowsPath('MP_image/GANS/before21/before21_0_5235.tif'),\n",
       " WindowsPath('MP_image/GANS/before21/before21_0_5340.tif'),\n",
       " WindowsPath('MP_image/GANS/before21/before21_0_5360.tif'),\n",
       " WindowsPath('MP_image/GANS/before21/before21_0_5375.tif'),\n",
       " WindowsPath('MP_image/GANS/before21/before21_0_54.tif'),\n",
       " WindowsPath('MP_image/GANS/before21/before21_0_5480.tif'),\n",
       " WindowsPath('MP_image/GANS/before21/before21_0_5482.tif'),\n",
       " WindowsPath('MP_image/GANS/before21/before21_0_5489.tif'),\n",
       " WindowsPath('MP_image/GANS/before21/before21_0_5495.tif'),\n",
       " WindowsPath('MP_image/GANS/before21/before21_0_552.tif'),\n",
       " WindowsPath('MP_image/GANS/before21/before21_0_5566.tif'),\n",
       " WindowsPath('MP_image/GANS/before21/before21_0_5672.tif'),\n",
       " WindowsPath('MP_image/GANS/before21/before21_0_5675.tif'),\n",
       " WindowsPath('MP_image/GANS/before21/before21_0_5700.tif'),\n",
       " WindowsPath('MP_image/GANS/before21/before21_0_5726.tif'),\n",
       " WindowsPath('MP_image/GANS/before21/before21_0_5779.tif'),\n",
       " WindowsPath('MP_image/GANS/before21/before21_0_5790.tif'),\n",
       " WindowsPath('MP_image/GANS/before21/before21_0_5822.tif'),\n",
       " WindowsPath('MP_image/GANS/before21/before21_0_5829.tif'),\n",
       " WindowsPath('MP_image/GANS/before21/before21_0_5875.tif'),\n",
       " WindowsPath('MP_image/GANS/before21/before21_0_5877.tif'),\n",
       " WindowsPath('MP_image/GANS/before21/before21_0_591.tif'),\n",
       " WindowsPath('MP_image/GANS/before21/before21_0_5910.tif'),\n",
       " WindowsPath('MP_image/GANS/before21/before21_0_5989.tif'),\n",
       " WindowsPath('MP_image/GANS/before21/before21_0_6027.tif'),\n",
       " WindowsPath('MP_image/GANS/before21/before21_0_6055.tif'),\n",
       " WindowsPath('MP_image/GANS/before21/before21_0_6056.tif'),\n",
       " WindowsPath('MP_image/GANS/before21/before21_0_6067.tif'),\n",
       " WindowsPath('MP_image/GANS/before21/before21_0_6084.tif'),\n",
       " WindowsPath('MP_image/GANS/before21/before21_0_6095.tif'),\n",
       " WindowsPath('MP_image/GANS/before21/before21_0_6124.tif'),\n",
       " WindowsPath('MP_image/GANS/before21/before21_0_6133.tif'),\n",
       " WindowsPath('MP_image/GANS/before21/before21_0_6180.tif'),\n",
       " WindowsPath('MP_image/GANS/before21/before21_0_6192.tif'),\n",
       " WindowsPath('MP_image/GANS/before21/before21_0_6202.tif'),\n",
       " WindowsPath('MP_image/GANS/before21/before21_0_6239.tif'),\n",
       " WindowsPath('MP_image/GANS/before21/before21_0_6254.tif'),\n",
       " WindowsPath('MP_image/GANS/before21/before21_0_6293.tif'),\n",
       " WindowsPath('MP_image/GANS/before21/before21_0_6321.tif'),\n",
       " WindowsPath('MP_image/GANS/before21/before21_0_6323.tif'),\n",
       " WindowsPath('MP_image/GANS/before21/before21_0_6352.tif'),\n",
       " WindowsPath('MP_image/GANS/before21/before21_0_6377.tif'),\n",
       " WindowsPath('MP_image/GANS/before21/before21_0_6383.tif'),\n",
       " WindowsPath('MP_image/GANS/before21/before21_0_6394.tif'),\n",
       " WindowsPath('MP_image/GANS/before21/before21_0_6399.tif'),\n",
       " WindowsPath('MP_image/GANS/before21/before21_0_6410.tif'),\n",
       " WindowsPath('MP_image/GANS/before21/before21_0_642.tif'),\n",
       " WindowsPath('MP_image/GANS/before21/before21_0_6434.tif'),\n",
       " WindowsPath('MP_image/GANS/before21/before21_0_644.tif'),\n",
       " WindowsPath('MP_image/GANS/before21/before21_0_6461.tif'),\n",
       " WindowsPath('MP_image/GANS/before21/before21_0_6467.tif'),\n",
       " WindowsPath('MP_image/GANS/before21/before21_0_647.tif'),\n",
       " WindowsPath('MP_image/GANS/before21/before21_0_6482.tif'),\n",
       " WindowsPath('MP_image/GANS/before21/before21_0_660.tif'),\n",
       " WindowsPath('MP_image/GANS/before21/before21_0_6633.tif'),\n",
       " WindowsPath('MP_image/GANS/before21/before21_0_664.tif'),\n",
       " WindowsPath('MP_image/GANS/before21/before21_0_6679.tif'),\n",
       " WindowsPath('MP_image/GANS/before21/before21_0_668.tif'),\n",
       " WindowsPath('MP_image/GANS/before21/before21_0_6765.tif'),\n",
       " WindowsPath('MP_image/GANS/before21/before21_0_6777.tif'),\n",
       " WindowsPath('MP_image/GANS/before21/before21_0_6800.tif'),\n",
       " WindowsPath('MP_image/GANS/before21/before21_0_6811.tif'),\n",
       " WindowsPath('MP_image/GANS/before21/before21_0_684.tif'),\n",
       " WindowsPath('MP_image/GANS/before21/before21_0_6851.tif'),\n",
       " WindowsPath('MP_image/GANS/before21/before21_0_6852.tif'),\n",
       " WindowsPath('MP_image/GANS/before21/before21_0_6857.tif'),\n",
       " WindowsPath('MP_image/GANS/before21/before21_0_6867.tif'),\n",
       " WindowsPath('MP_image/GANS/before21/before21_0_6888.tif'),\n",
       " WindowsPath('MP_image/GANS/before21/before21_0_689.tif'),\n",
       " WindowsPath('MP_image/GANS/before21/before21_0_6907.tif'),\n",
       " WindowsPath('MP_image/GANS/before21/before21_0_691.tif'),\n",
       " WindowsPath('MP_image/GANS/before21/before21_0_6929.tif'),\n",
       " WindowsPath('MP_image/GANS/before21/before21_0_6996.tif'),\n",
       " WindowsPath('MP_image/GANS/before21/before21_0_7031.tif'),\n",
       " WindowsPath('MP_image/GANS/before21/before21_0_7044.tif'),\n",
       " WindowsPath('MP_image/GANS/before21/before21_0_7110.tif'),\n",
       " WindowsPath('MP_image/GANS/before21/before21_0_7111.tif'),\n",
       " WindowsPath('MP_image/GANS/before21/before21_0_7184.tif'),\n",
       " WindowsPath('MP_image/GANS/before21/before21_0_7209.tif'),\n",
       " WindowsPath('MP_image/GANS/before21/before21_0_7211.tif'),\n",
       " WindowsPath('MP_image/GANS/before21/before21_0_7230.tif'),\n",
       " WindowsPath('MP_image/GANS/before21/before21_0_7232.tif'),\n",
       " WindowsPath('MP_image/GANS/before21/before21_0_7252.tif'),\n",
       " WindowsPath('MP_image/GANS/before21/before21_0_7322.tif'),\n",
       " WindowsPath('MP_image/GANS/before21/before21_0_7354.tif'),\n",
       " WindowsPath('MP_image/GANS/before21/before21_0_7374.tif'),\n",
       " WindowsPath('MP_image/GANS/before21/before21_0_7407.tif'),\n",
       " WindowsPath('MP_image/GANS/before21/before21_0_7412.tif'),\n",
       " WindowsPath('MP_image/GANS/before21/before21_0_7458.tif'),\n",
       " WindowsPath('MP_image/GANS/before21/before21_0_7461.tif'),\n",
       " WindowsPath('MP_image/GANS/before21/before21_0_7568.tif'),\n",
       " WindowsPath('MP_image/GANS/before21/before21_0_7577.tif'),\n",
       " WindowsPath('MP_image/GANS/before21/before21_0_7584.tif'),\n",
       " WindowsPath('MP_image/GANS/before21/before21_0_7589.tif'),\n",
       " WindowsPath('MP_image/GANS/before21/before21_0_7615.tif'),\n",
       " WindowsPath('MP_image/GANS/before21/before21_0_7617.tif'),\n",
       " WindowsPath('MP_image/GANS/before21/before21_0_7619.tif'),\n",
       " WindowsPath('MP_image/GANS/before21/before21_0_7620.tif'),\n",
       " WindowsPath('MP_image/GANS/before21/before21_0_7645.tif'),\n",
       " WindowsPath('MP_image/GANS/before21/before21_0_7701.tif'),\n",
       " WindowsPath('MP_image/GANS/before21/before21_0_774.tif'),\n",
       " WindowsPath('MP_image/GANS/before21/before21_0_7762.tif'),\n",
       " WindowsPath('MP_image/GANS/before21/before21_0_7773.tif'),\n",
       " WindowsPath('MP_image/GANS/before21/before21_0_7774.tif'),\n",
       " WindowsPath('MP_image/GANS/before21/before21_0_7797.tif'),\n",
       " WindowsPath('MP_image/GANS/before21/before21_0_7838.tif'),\n",
       " WindowsPath('MP_image/GANS/before21/before21_0_7845.tif'),\n",
       " WindowsPath('MP_image/GANS/before21/before21_0_7846.tif'),\n",
       " WindowsPath('MP_image/GANS/before21/before21_0_7876.tif'),\n",
       " WindowsPath('MP_image/GANS/before21/before21_0_7911.tif'),\n",
       " WindowsPath('MP_image/GANS/before21/before21_0_7929.tif'),\n",
       " WindowsPath('MP_image/GANS/before21/before21_0_7932.tif'),\n",
       " WindowsPath('MP_image/GANS/before21/before21_0_7978.tif'),\n",
       " WindowsPath('MP_image/GANS/before21/before21_0_8020.tif'),\n",
       " WindowsPath('MP_image/GANS/before21/before21_0_803.tif'),\n",
       " WindowsPath('MP_image/GANS/before21/before21_0_8103.tif'),\n",
       " WindowsPath('MP_image/GANS/before21/before21_0_8145.tif'),\n",
       " WindowsPath('MP_image/GANS/before21/before21_0_8190.tif'),\n",
       " WindowsPath('MP_image/GANS/before21/before21_0_8213.tif'),\n",
       " WindowsPath('MP_image/GANS/before21/before21_0_826.tif'),\n",
       " WindowsPath('MP_image/GANS/before21/before21_0_8316.tif'),\n",
       " WindowsPath('MP_image/GANS/before21/before21_0_834.tif'),\n",
       " WindowsPath('MP_image/GANS/before21/before21_0_8355.tif'),\n",
       " WindowsPath('MP_image/GANS/before21/before21_0_8451.tif'),\n",
       " WindowsPath('MP_image/GANS/before21/before21_0_8509.tif'),\n",
       " WindowsPath('MP_image/GANS/before21/before21_0_8546.tif'),\n",
       " WindowsPath('MP_image/GANS/before21/before21_0_857.tif'),\n",
       " WindowsPath('MP_image/GANS/before21/before21_0_86.tif'),\n",
       " WindowsPath('MP_image/GANS/before21/before21_0_860.tif'),\n",
       " WindowsPath('MP_image/GANS/before21/before21_0_8607.tif'),\n",
       " WindowsPath('MP_image/GANS/before21/before21_0_8610.tif'),\n",
       " WindowsPath('MP_image/GANS/before21/before21_0_8626.tif'),\n",
       " WindowsPath('MP_image/GANS/before21/before21_0_8628.tif'),\n",
       " WindowsPath('MP_image/GANS/before21/before21_0_8670.tif'),\n",
       " WindowsPath('MP_image/GANS/before21/before21_0_8688.tif'),\n",
       " WindowsPath('MP_image/GANS/before21/before21_0_8728.tif'),\n",
       " WindowsPath('MP_image/GANS/before21/before21_0_8780.tif'),\n",
       " WindowsPath('MP_image/GANS/before21/before21_0_8781.tif'),\n",
       " WindowsPath('MP_image/GANS/before21/before21_0_8856.tif'),\n",
       " WindowsPath('MP_image/GANS/before21/before21_0_8872.tif'),\n",
       " WindowsPath('MP_image/GANS/before21/before21_0_8873.tif'),\n",
       " WindowsPath('MP_image/GANS/before21/before21_0_8886.tif'),\n",
       " WindowsPath('MP_image/GANS/before21/before21_0_8977.tif'),\n",
       " WindowsPath('MP_image/GANS/before21/before21_0_8992.tif'),\n",
       " WindowsPath('MP_image/GANS/before21/before21_0_8998.tif'),\n",
       " WindowsPath('MP_image/GANS/before21/before21_0_8999.tif'),\n",
       " WindowsPath('MP_image/GANS/before21/before21_0_9018.tif'),\n",
       " WindowsPath('MP_image/GANS/before21/before21_0_908.tif'),\n",
       " WindowsPath('MP_image/GANS/before21/before21_0_9089.tif'),\n",
       " WindowsPath('MP_image/GANS/before21/before21_0_9106.tif'),\n",
       " WindowsPath('MP_image/GANS/before21/before21_0_9153.tif'),\n",
       " WindowsPath('MP_image/GANS/before21/before21_0_9185.tif'),\n",
       " WindowsPath('MP_image/GANS/before21/before21_0_9202.tif'),\n",
       " WindowsPath('MP_image/GANS/before21/before21_0_9205.tif'),\n",
       " WindowsPath('MP_image/GANS/before21/before21_0_9216.tif'),\n",
       " WindowsPath('MP_image/GANS/before21/before21_0_9244.tif'),\n",
       " WindowsPath('MP_image/GANS/before21/before21_0_9251.tif'),\n",
       " WindowsPath('MP_image/GANS/before21/before21_0_9254.tif'),\n",
       " WindowsPath('MP_image/GANS/before21/before21_0_9257.tif'),\n",
       " WindowsPath('MP_image/GANS/before21/before21_0_9301.tif'),\n",
       " WindowsPath('MP_image/GANS/before21/before21_0_9390.tif'),\n",
       " WindowsPath('MP_image/GANS/before21/before21_0_9447.tif'),\n",
       " WindowsPath('MP_image/GANS/before21/before21_0_9491.tif'),\n",
       " WindowsPath('MP_image/GANS/before21/before21_0_9495.tif'),\n",
       " WindowsPath('MP_image/GANS/before21/before21_0_950.tif'),\n",
       " WindowsPath('MP_image/GANS/before21/before21_0_9549.tif'),\n",
       " WindowsPath('MP_image/GANS/before21/before21_0_956.tif'),\n",
       " WindowsPath('MP_image/GANS/before21/before21_0_9596.tif'),\n",
       " WindowsPath('MP_image/GANS/before21/before21_0_9602.tif'),\n",
       " WindowsPath('MP_image/GANS/before21/before21_0_9636.tif'),\n",
       " WindowsPath('MP_image/GANS/before21/before21_0_9674.tif'),\n",
       " WindowsPath('MP_image/GANS/before21/before21_0_9692.tif'),\n",
       " WindowsPath('MP_image/GANS/before21/before21_0_9716.tif'),\n",
       " WindowsPath('MP_image/GANS/before21/before21_0_9724.tif'),\n",
       " WindowsPath('MP_image/GANS/before21/before21_0_9725.tif'),\n",
       " WindowsPath('MP_image/GANS/before21/before21_0_9741.tif'),\n",
       " WindowsPath('MP_image/GANS/before21/before21_0_975.tif'),\n",
       " WindowsPath('MP_image/GANS/before21/before21_0_976.tif'),\n",
       " WindowsPath('MP_image/GANS/before21/before21_0_9794.tif'),\n",
       " WindowsPath('MP_image/GANS/before21/before21_0_9885.tif'),\n",
       " WindowsPath('MP_image/GANS/before21/before21_0_9938.tif'),\n",
       " WindowsPath('MP_image/GANS/before21/before21_0_994.tif'),\n",
       " WindowsPath('MP_image/GANS/before21/before21_0_9951.tif'),\n",
       " WindowsPath('MP_image/GANS/before21/test_100um_07d_001.tif'),\n",
       " WindowsPath('MP_image/GANS/before21/test_100um_07d_003.tif'),\n",
       " WindowsPath('MP_image/GANS/before21/test_100um_07d_011.tif'),\n",
       " WindowsPath('MP_image/GANS/before21/test_100um_14d_015.tif'),\n",
       " WindowsPath('MP_image/GANS/before21/test_100um_14d_020.tif'),\n",
       " WindowsPath('MP_image/GANS/before21/test_100um_14d_026.tif'),\n",
       " WindowsPath('MP_image/GANS/before21/test_100um_14d_032.tif'),\n",
       " WindowsPath('MP_image/GANS/before21/test_10um_14d_018.tif'),\n",
       " WindowsPath('MP_image/GANS/before21/test_10um_14d_023.tif'),\n",
       " WindowsPath('MP_image/GANS/before21/test_10um_14d_029.tif'),\n",
       " WindowsPath('MP_image/GANS/before21/test_200um_07d_002.tif'),\n",
       " WindowsPath('MP_image/GANS/before21/test_200um_14d_014.tif'),\n",
       " WindowsPath('MP_image/GANS/before21/test_200um_14d_019.tif'),\n",
       " WindowsPath('MP_image/GANS/before21/test_200um_14d_025.tif'),\n",
       " WindowsPath('MP_image/GANS/before21/test_200um_14d_031.tif'),\n",
       " WindowsPath('MP_image/GANS/before21/test_20um_07d_005.tif'),\n",
       " WindowsPath('MP_image/GANS/before21/test_20um_07d_007.tif'),\n",
       " WindowsPath('MP_image/GANS/before21/test_20um_07d_013.tif'),\n",
       " WindowsPath('MP_image/GANS/before21/test_20um_14d_017.tif'),\n",
       " WindowsPath('MP_image/GANS/before21/test_20um_14d_022.tif'),\n",
       " WindowsPath('MP_image/GANS/before21/test_20um_14d_028.tif'),\n",
       " WindowsPath('MP_image/GANS/before21/test_4um_14d_024.tif'),\n",
       " WindowsPath('MP_image/GANS/before21/test_500um_07d.tif'),\n",
       " WindowsPath('MP_image/GANS/before21/test_500um_07d_006.tif'),\n",
       " WindowsPath('MP_image/GANS/before21/test_500um_14d_030.tif'),\n",
       " WindowsPath('MP_image/GANS/before21/test_50um_07d_004.tif'),\n",
       " WindowsPath('MP_image/GANS/before21/test_50um_07d_008.tif'),\n",
       " WindowsPath('MP_image/GANS/before21/test_50um_07d_012.tif'),\n",
       " WindowsPath('MP_image/GANS/before21/test_50um_14d_016.tif'),\n",
       " WindowsPath('MP_image/GANS/before21/test_50um_14d_021.tif'),\n",
       " WindowsPath('MP_image/GANS/before21/test_50um_14d_027.tif')]"
      ]
     },
     "execution_count": 14,
     "metadata": {},
     "output_type": "execute_result"
    }
   ],
   "source": [
    "before21"
   ]
  },
  {
   "cell_type": "code",
   "execution_count": 15,
   "metadata": {},
   "outputs": [],
   "source": [
    "MP_image_dict = {\n",
    "    'before21': list(data_dir.glob('before21/*')),\n",
    "    'after21': list(data_dir.glob('after21/*'))}"
   ]
  },
  {
   "cell_type": "code",
   "execution_count": 16,
   "metadata": {},
   "outputs": [],
   "source": [
    "MP_label_dict={\n",
    "    'before21': 0,\n",
    "    'after21': 1\n",
    "}"
   ]
  },
  {
   "cell_type": "markdown",
   "metadata": {},
   "source": [
    "def center_crop(img, dim):\n",
    "    \"\"\"returns center cropped image\n",
    "    Args: image scaling\n",
    "    img: image to be center cropped\n",
    "    dim: dimensions (width, height) to be cropped from center\n",
    "    \"\"\"\n",
    "    width, height = img.shape[1], img.shape[0]\n",
    "    #process crop width and height for max available dimension\n",
    "    crop_width = dim[0] if dim[0] < img.shape[1] else img.shape[1]\n",
    "    crop_height = dim[1] if dim[1]<img.shape[0] else img.shape[0]\n",
    "    \n",
    "    mid_x, mid_y = int(width/2), int(height/2)\n",
    "    cw2, ch2 = int(crop_width/2), int(crop_height/2)\n",
    "    crop_img = img[mid_y-ch2: mid_y+ch2, mid_x-cw2: mid_x+cw2]\n",
    "    return crop_img"
   ]
  },
  {
   "cell_type": "code",
   "execution_count": 17,
   "metadata": {},
   "outputs": [
    {
     "data": {
      "text/plain": [
       "(2048, 3072, 3)"
      ]
     },
     "execution_count": 17,
     "metadata": {},
     "output_type": "execute_result"
    }
   ],
   "source": [
    "img_day0 = cv2.imread(str(before21[1]))\n",
    "img_day0.shape"
   ]
  },
  {
   "cell_type": "code",
   "execution_count": 18,
   "metadata": {},
   "outputs": [
    {
     "data": {
      "text/plain": [
       "(2046, 3072, 3)"
      ]
     },
     "execution_count": 18,
     "metadata": {},
     "output_type": "execute_result"
    }
   ],
   "source": [
    "img=cv2.imread(str(MP_image_dict['before21'][0]))  # can convert image into three dimentianl pixel data\n",
    "img.shape"
   ]
  },
  {
   "cell_type": "code",
   "execution_count": 19,
   "metadata": {
    "scrolled": true
   },
   "outputs": [
    {
     "data": {
      "text/plain": [
       "<matplotlib.image.AxesImage at 0x1744f215910>"
      ]
     },
     "execution_count": 19,
     "metadata": {},
     "output_type": "execute_result"
    },
    {
     "data": {
      "image/png": "[encoded data removed]",
      "text/plain": [
       "<Figure size 432x288 with 1 Axes>"
      ]
     },
     "metadata": {
      "needs_background": "light"
     },
     "output_type": "display_data"
    }
   ],
   "source": [
    "plt.imshow(img)"
   ]
  },
  {
   "cell_type": "code",
   "execution_count": 20,
   "metadata": {},
   "outputs": [],
   "source": [
    "X ,y =[], []\n",
    "\n",
    "for aged_days, images in MP_image_dict.items():\n",
    "    for image in images:\n",
    "        img = cv2.imread(str(image), 0)\n",
    "        resized_image = cv2.resize(img, (224,224))\n",
    "        X.append(resized_image)\n",
    "        y.append(MP_label_dict[aged_days])"
   ]
  },
  {
   "cell_type": "code",
   "execution_count": 21,
   "metadata": {},
   "outputs": [],
   "source": [
    "X = np.array(X)\n",
    "y = np.array(y)"
   ]
  },
  {
   "cell_type": "code",
   "execution_count": 22,
   "metadata": {},
   "outputs": [],
   "source": [
    "import copy\n",
    "Z=copy.deepcopy(X)"
   ]
  },
  {
   "cell_type": "code",
   "execution_count": 23,
   "metadata": {
    "scrolled": true
   },
   "outputs": [
    {
     "data": {
      "text/plain": [
       "(989, 224, 224)"
      ]
     },
     "execution_count": 23,
     "metadata": {},
     "output_type": "execute_result"
    }
   ],
   "source": [
    "Z.shape"
   ]
  },
  {
   "cell_type": "code",
   "execution_count": 24,
   "metadata": {},
   "outputs": [
    {
     "data": {
      "text/plain": [
       "(989, 224, 224)"
      ]
     },
     "execution_count": 24,
     "metadata": {},
     "output_type": "execute_result"
    }
   ],
   "source": [
    "X.shape"
   ]
  },
  {
   "cell_type": "code",
   "execution_count": 25,
   "metadata": {
    "scrolled": true
   },
   "outputs": [
    {
     "data": {
      "text/plain": [
       "<matplotlib.image.AxesImage at 0x1745252e700>"
      ]
     },
     "execution_count": 25,
     "metadata": {},
     "output_type": "execute_result"
    },
    {
     "data": {
      "image/png": "[encoded data removed]",
      "text/plain": [
       "<Figure size 432x288 with 1 Axes>"
      ]
     },
     "metadata": {
      "needs_background": "light"
     },
     "output_type": "display_data"
    }
   ],
   "source": [
    "plt.imshow(X[2])"
   ]
  },
  {
   "cell_type": "code",
   "execution_count": 26,
   "metadata": {},
   "outputs": [
    {
     "data": {
      "text/plain": [
       "(224, 224)"
      ]
     },
     "execution_count": 26,
     "metadata": {},
     "output_type": "execute_result"
    }
   ],
   "source": [
    "X[2].shape"
   ]
  },
  {
   "cell_type": "code",
   "execution_count": 27,
   "metadata": {},
   "outputs": [],
   "source": [
    "from sklearn.model_selection import train_test_split"
   ]
  },
  {
   "cell_type": "code",
   "execution_count": 28,
   "metadata": {},
   "outputs": [],
   "source": [
    "train_X, test_X, train_y, test_y = train_test_split(X, y,stratify=y, \n",
    "                                                    test_size=0.25)"
   ]
  },
  {
   "cell_type": "code",
   "execution_count": 29,
   "metadata": {},
   "outputs": [],
   "source": [
    "train_X=train_X.astype('float64')/255.0\n",
    "test_X=test_X.astype('float64')/255.0"
   ]
  },
  {
   "cell_type": "code",
   "execution_count": 30,
   "metadata": {},
   "outputs": [],
   "source": [
    "train_X = train_X.reshape(-1, 224, 224, 1)\n",
    "test_X = test_X.reshape(-1, 224, 224, 1)"
   ]
  },
  {
   "cell_type": "code",
   "execution_count": 31,
   "metadata": {},
   "outputs": [
    {
     "data": {
      "text/plain": [
       "(741, 224, 224, 1)"
      ]
     },
     "execution_count": 31,
     "metadata": {},
     "output_type": "execute_result"
    }
   ],
   "source": [
    "train_X.shape"
   ]
  },
  {
   "cell_type": "code",
   "execution_count": 32,
   "metadata": {},
   "outputs": [
    {
     "data": {
      "text/plain": [
       "(741,)"
      ]
     },
     "execution_count": 32,
     "metadata": {},
     "output_type": "execute_result"
    }
   ],
   "source": [
    "train_y.shape"
   ]
  },
  {
   "cell_type": "markdown",
   "metadata": {},
   "source": [
    "from keras. preprocessing.image import ImageDataGenerator, load_img, img_to_array \n",
    "####data augmentation###"
   ]
  },
  {
   "cell_type": "markdown",
   "metadata": {},
   "source": [
    "datagen = ImageDataGenerator(\n",
    "    rotation_range=40,\n",
    "    width_shift_range=0.1,\n",
    "    height_shift_range=0.1,\n",
    "rescale=1./255,\n",
    "zoom_range=0.2,\n",
    "horizontal_flip=True,\n",
    "    vertical_flip=True,\n",
    "fill_mode='nearest')"
   ]
  },
  {
   "cell_type": "markdown",
   "metadata": {},
   "source": [
    "MP_types = os.listdir('./MP_image/weathered_MODA')\n",
    "print(MP_types)\n",
    "print('types of aged MP', len(MP_types))"
   ]
  },
  {
   "cell_type": "markdown",
   "metadata": {},
   "source": [
    "import pandas as pd"
   ]
  },
  {
   "cell_type": "markdown",
   "metadata": {},
   "source": [
    "aged_MP = []\n",
    "\n",
    "for item in MP_types:\n",
    "    all_mp = os.listdir('./MP_image/weathered_MODA' + '/' +item)\n",
    "    for MP in all_mp:\n",
    "        aged_MP.append((item, str('./MP_image/weathered_MODA' + '/' +item) + '/' + MP))\n",
    "aged_MP\n",
    "aged_MP_df = pd.DataFrame(data=aged_MP, columns=['days', 'images'])\n",
    "print(aged_MP_df)"
   ]
  },
  {
   "cell_type": "markdown",
   "metadata": {},
   "source": [
    "for image in aged_MP_df.loc[aged_MP_df['days'] == 'after21', 'images']:\n",
    "    img=load_img(image)\n",
    "    img_ary=np.array(img)\n",
    "    img_array=np.expand_dims(img_ary, axis=0)\n",
    "    #generate 10 images for example\n",
    "    #batch_size: at a time, how many images should be created\n",
    "    count=0\n",
    "    for batch in datagen.flow(img_array, batch_size=1, save_to_dir='./MP_image/weathered_MODA',\n",
    "                              save_prefix='after21',\n",
    "                           save_format='tif'):\n",
    "        count +=1\n",
    "        if count >10:\n",
    "            break"
   ]
  },
  {
   "cell_type": "markdown",
   "metadata": {},
   "source": [
    "for image in aged_MP_df.loc[aged_MP_df['days'] == 'before21', 'images']:\n",
    "    img=load_img(image)\n",
    "    img_ary=np.array(img)\n",
    "    img_array=np.expand_dims(img_ary, axis=0)\n",
    "    #generate 10 images for example\n",
    "    #batch_size: at a time, how many images should be created\n",
    "    count=0\n",
    "    for batch in datagen.flow(img_array, batch_size=1, save_to_dir='./MP_image/weathered_MODA',\n",
    "                              save_prefix='before21',\n",
    "                           save_format='tif'):\n",
    "        count +=1\n",
    "        if count >10:\n",
    "            break"
   ]
  },
  {
   "cell_type": "markdown",
   "metadata": {},
   "source": [
    "for image in aged_MP_df.loc[aged_MP_df['days'] == '42days', 'images']:\n",
    "    img=load_img(image)\n",
    "    img_ary=np.array(img)\n",
    "    img_array=np.expand_dims(img_ary, axis=0)\n",
    "    #generate 10 images for example\n",
    "    #batch_size: at a time, how many images should be created\n",
    "    count=0\n",
    "    for batch in datagen.flow(img_array, batch_size=1, save_to_dir='MP_image/generated_image_day42',\n",
    "                              save_prefix='day42',\n",
    "                           save_format='tif'):\n",
    "        count +=1\n",
    "        if count >10:\n",
    "            break"
   ]
  },
  {
   "cell_type": "markdown",
   "metadata": {},
   "source": [
    "for image in aged_MP_df.loc[aged_MP_df['days'] == '56days', 'images']:\n",
    "    img=load_img(image)\n",
    "    img_ary=np.array(img)\n",
    "    img_array=np.expand_dims(img_ary, axis=0)\n",
    "    #generate 10 images for example\n",
    "    #batch_size: at a time, how many images should be created\n",
    "    count=0\n",
    "    for batch in datagen.flow(img_array, batch_size=1, save_to_dir='MP_image/generated_image_day56',\n",
    "                              save_prefix='day56',\n",
    "                           save_format='tif'):\n",
    "        count +=1\n",
    "        if count >10:\n",
    "            break"
   ]
  },
  {
   "cell_type": "markdown",
   "metadata": {},
   "source": [
    "for image in aged_MP_df.loc[aged_MP_df['days'] == '0days', 'images']:\n",
    "    img=load_img(image)\n",
    "    img_ary=np.array(img)\n",
    "    img_array=np.expand_dims(img_ary, axis=0)\n",
    "    #generate 10 images for example\n",
    "    #batch_size: at a time, how many images should be created\n",
    "    count=0\n",
    "    for batch in datagen.flow(img_array, batch_size=1, save_to_dir='MP_image/generated_image_day0',\n",
    "                              save_prefix='day0',\n",
    "                           save_format='tif'):\n",
    "        count +=1\n",
    "        if count >10:\n",
    "            break"
   ]
  },
  {
   "cell_type": "markdown",
   "metadata": {},
   "source": [
    "# From first image loading method"
   ]
  },
  {
   "cell_type": "code",
   "execution_count": 33,
   "metadata": {},
   "outputs": [],
   "source": [
    "from keras.wrappers.scikit_learn import KerasClassifier\n",
    "from sklearn.model_selection import GridSearchCV\n",
    "from keras.models import Sequential\n",
    "from keras.layers import Dense, BatchNormalization\n"
   ]
  },
  {
   "cell_type": "code",
   "execution_count": 34,
   "metadata": {},
   "outputs": [],
   "source": [
    "X = X.reshape(-1, 224, 224, 1)"
   ]
  },
  {
   "cell_type": "code",
   "execution_count": 35,
   "metadata": {},
   "outputs": [
    {
     "data": {
      "text/plain": [
       "(989, 224, 224, 1)"
      ]
     },
     "execution_count": 35,
     "metadata": {},
     "output_type": "execute_result"
    }
   ],
   "source": [
    "X.shape"
   ]
  },
  {
   "cell_type": "code",
   "execution_count": 36,
   "metadata": {},
   "outputs": [],
   "source": [
    "model = Sequential([\n",
    "        layers.Conv2D(256,kernel_size=(3,3), padding='same', activation='relu', input_shape=(224,224,1)),\n",
    "        layers.MaxPooling2D(pool_size=(2,2), strides=(2,2)),\n",
    "        layers.BatchNormalization(),\n",
    "        layers.Conv2D(128,kernel_size=(3,3), padding='same', activation='relu'),\n",
    "        layers.MaxPooling2D(pool_size=(2,2), strides=(2,2)),\n",
    "        layers.BatchNormalization(),\n",
    "        layers.Conv2D(64,kernel_size=(3,3), padding='same', activation='relu'),\n",
    "        layers.MaxPooling2D(pool_size=(2,2), strides=(2,2)),\n",
    "        layers.BatchNormalization(),\n",
    "        layers.Conv2D(32,kernel_size=(3,3), padding='same', activation='relu'),\n",
    "        layers.MaxPooling2D(pool_size=(2,2), strides=(2,2)),\n",
    "        layers.BatchNormalization(),\n",
    "        layers.Conv2D(16,kernel_size=(3,3), padding='same', activation='relu'),\n",
    "        layers.MaxPooling2D(pool_size=(2,2), strides=(2,2)),\n",
    "        layers.Flatten(),\n",
    "        layers.Dense(2)])"
   ]
  },
  {
   "cell_type": "code",
   "execution_count": 37,
   "metadata": {},
   "outputs": [],
   "source": [
    "model.compile(optimizer='adam', \n",
    "             loss='sparse_categorical_crossentropy',\n",
    "             metrics=['accuracy'])#loss function is because the result is exact value and is not hot encoded values"
   ]
  },
  {
   "cell_type": "code",
   "execution_count": 38,
   "metadata": {
    "scrolled": false
   },
   "outputs": [
    {
     "name": "stdout",
     "output_type": "stream",
     "text": [
      "Model: \"sequential\"\n",
      "_________________________________________________________________\n",
      "Layer (type)                 Output Shape              Param #   \n",
      "=================================================================\n",
      "conv2d (Conv2D)              (None, 224, 224, 256)     2560      \n",
      "_________________________________________________________________\n",
      "max_pooling2d (MaxPooling2D) (None, 112, 112, 256)     0         \n",
      "_________________________________________________________________\n",
      "batch_normalization (BatchNo (None, 112, 112, 256)     1024      \n",
      "_________________________________________________________________\n",
      "conv2d_1 (Conv2D)            (None, 112, 112, 128)     295040    \n",
      "_________________________________________________________________\n",
      "max_pooling2d_1 (MaxPooling2 (None, 56, 56, 128)       0         \n",
      "_________________________________________________________________\n",
      "batch_normalization_1 (Batch (None, 56, 56, 128)       512       \n",
      "_________________________________________________________________\n",
      "conv2d_2 (Conv2D)            (None, 56, 56, 64)        73792     \n",
      "_________________________________________________________________\n",
      "max_pooling2d_2 (MaxPooling2 (None, 28, 28, 64)        0         \n",
      "_________________________________________________________________\n",
      "batch_normalization_2 (Batch (None, 28, 28, 64)        256       \n",
      "_________________________________________________________________\n",
      "conv2d_3 (Conv2D)            (None, 28, 28, 32)        18464     \n",
      "_________________________________________________________________\n",
      "max_pooling2d_3 (MaxPooling2 (None, 14, 14, 32)        0         \n",
      "_________________________________________________________________\n",
      "batch_normalization_3 (Batch (None, 14, 14, 32)        128       \n",
      "_________________________________________________________________\n",
      "conv2d_4 (Conv2D)            (None, 14, 14, 16)        4624      \n",
      "_________________________________________________________________\n",
      "max_pooling2d_4 (MaxPooling2 (None, 7, 7, 16)          0         \n",
      "_________________________________________________________________\n",
      "flatten (Flatten)            (None, 784)               0         \n",
      "_________________________________________________________________\n",
      "dense (Dense)                (None, 2)                 1570      \n",
      "=================================================================\n",
      "Total params: 397,970\n",
      "Trainable params: 397,010\n",
      "Non-trainable params: 960\n",
      "_________________________________________________________________\n"
     ]
    }
   ],
   "source": [
    "model.summary()"
   ]
  },
  {
   "cell_type": "code",
   "execution_count": 78,
   "metadata": {
    "scrolled": true
   },
   "outputs": [
    {
     "name": "stdout",
     "output_type": "stream",
     "text": [
      "Epoch 1/1000\n",
      "24/24 - 5s - loss: 1.1593 - accuracy: 0.6404 - val_loss: 0.6931 - val_accuracy: 0.6260\n",
      "Epoch 2/1000\n",
      "24/24 - 4s - loss: 0.6931 - accuracy: 0.6540 - val_loss: 0.6931 - val_accuracy: 0.4024\n",
      "Epoch 3/1000\n",
      "24/24 - 4s - loss: 0.6931 - accuracy: 0.6513 - val_loss: 0.6931 - val_accuracy: 0.3496\n",
      "Epoch 4/1000\n",
      "24/24 - 4s - loss: 0.6931 - accuracy: 0.6567 - val_loss: 0.6931 - val_accuracy: 0.3740\n",
      "Epoch 5/1000\n",
      "24/24 - 4s - loss: 0.6931 - accuracy: 0.6594 - val_loss: 0.6931 - val_accuracy: 0.3699\n",
      "Epoch 6/1000\n",
      "24/24 - 4s - loss: 0.6931 - accuracy: 0.6635 - val_loss: 0.6931 - val_accuracy: 0.3618\n",
      "Restoring model weights from the end of the best epoch.\n",
      "Epoch 00006: early stopping\n"
     ]
    }
   ],
   "source": [
    "from tensorflow.keras.callbacks import EarlyStopping\n",
    "monitor = EarlyStopping(monitor='val_loss', min_delta=1e-3, patience=5, \n",
    "                        verbose=1, mode='auto', restore_best_weights=True)\n",
    "import time, datetime\n",
    "start = datetime.datetime.now()\n",
    "model.fit(train_X,train_y,validation_data=(test_X,test_y),\n",
    "          callbacks=[monitor],verbose=2,epochs=1000)\n",
    "end = datetime.datetime.now()\n",
    "diff = (end - start)"
   ]
  },
  {
   "cell_type": "markdown",
   "metadata": {},
   "source": [
    "history = model.fit(X, y, validation_split=0.2, epochs=150, verbose=0, batch_size=4)\n",
    "print(history.history.keys())"
   ]
  },
  {
   "cell_type": "markdown",
   "metadata": {
    "scrolled": true
   },
   "source": [
    "history.history['accuracy']"
   ]
  },
  {
   "cell_type": "markdown",
   "metadata": {},
   "source": [
    "plt.plot(history.history['accuracy'])\n",
    "plt.plot(history.history['val_accuracy'])\n",
    "plt.title('model accuracy')\n",
    "plt.ylabel('accuracy')\n",
    "plt.xlabel('epoch')\n",
    "plt.legend(['train', 'val'], loc='upper left')\n",
    "plt.show()\n",
    "# summarize history for loss\n",
    "plt.plot(history.history['loss'])\n",
    "plt.plot(history.history['val_loss'])\n",
    "plt.title('model loss')\n",
    "plt.ylabel('loss')\n",
    "plt.xlabel('epoch')\n",
    "plt.legend(['train', 'val'], loc='upper left')\n",
    "plt.show()"
   ]
  },
  {
   "cell_type": "code",
   "execution_count": 35,
   "metadata": {
    "scrolled": true
   },
   "outputs": [
    {
     "data": {
      "text/plain": [
       "datetime.timedelta(seconds=4, microseconds=767927)"
      ]
     },
     "execution_count": 35,
     "metadata": {},
     "output_type": "execute_result"
    }
   ],
   "source": [
    "diff"
   ]
  },
  {
   "cell_type": "code",
   "execution_count": 36,
   "metadata": {
    "scrolled": true
   },
   "outputs": [
    {
     "name": "stdout",
     "output_type": "stream",
     "text": [
      "10/10 [==============================] - 0s 8ms/step - loss: 0.6931 - accuracy: 0.6081\n"
     ]
    },
    {
     "data": {
      "text/plain": [
       "[0.6931471824645996, 0.6081081032752991]"
      ]
     },
     "execution_count": 36,
     "metadata": {},
     "output_type": "execute_result"
    }
   ],
   "source": [
    "model.evaluate(test_X, test_y)"
   ]
  },
  {
   "cell_type": "markdown",
   "metadata": {},
   "source": [
    "model.save('Customzied_CNN.h5')"
   ]
  },
  {
   "cell_type": "markdown",
   "metadata": {},
   "source": [
    "# VGG16 orginal"
   ]
  },
  {
   "cell_type": "code",
   "execution_count": 79,
   "metadata": {},
   "outputs": [],
   "source": [
    " model = Sequential([\n",
    "    layers.Conv2D(input_shape=(224,224,1), filters=64, kernel_size=(3,3), padding='same', activation='relu'),\n",
    "    layers.Conv2D(filters=64, kernel_size=(3,3), padding='same', activation='relu'),\n",
    "    layers.MaxPooling2D(pool_size=(2,2), strides=(2,2)),\n",
    "    layers.Conv2D(filters=128, kernel_size=(3,3), padding='same', activation='relu'),\n",
    "    layers.Conv2D(filters=128, kernel_size=(3,3), padding='same', activation='relu'),\n",
    "    layers.MaxPooling2D(pool_size=(2,2), strides=(2,2)),\n",
    "    layers.Conv2D(filters=256, kernel_size=(3,3), padding='same', activation='relu'),\n",
    "    layers.Conv2D(filters=256, kernel_size=(3,3), padding='same', activation='relu'),\n",
    "    layers.Conv2D(filters=256, kernel_size=(3,3), padding='same', activation='relu'),\n",
    "    layers.MaxPooling2D(pool_size=(2,2), strides=(2,2)),\n",
    "    layers.Conv2D(filters=512, kernel_size=(3,3), padding='same', activation='relu'),\n",
    "    layers.Conv2D(filters=512, kernel_size=(3,3), padding='same', activation='relu'),\n",
    "    layers.Conv2D(filters=512, kernel_size=(3,3), padding='same', activation='relu'),\n",
    "    layers.MaxPooling2D(pool_size=(2,2), strides=(2,2)),\n",
    "    layers.Conv2D(filters=512, kernel_size=(3,3), padding='same', activation='relu'),\n",
    "    layers.Conv2D(filters=512, kernel_size=(3,3), padding='same', activation='relu'),\n",
    "    layers.Conv2D(filters=512, kernel_size=(3,3), padding='same', activation='relu'),\n",
    "    layers.MaxPooling2D(pool_size=(2,2), strides=(2,2)),\n",
    "     layers.Flatten(),\n",
    "    layers.Dense(256, activation='relu'),\n",
    "    layers.Dense(256, activation='relu'),\n",
    "    layers.Dense(2, activation='softmax')])"
   ]
  },
  {
   "cell_type": "code",
   "execution_count": 80,
   "metadata": {},
   "outputs": [],
   "source": [
    "model.compile(optimizer='adam', loss='sparse_categorical_crossentropy', metrics=['acc'])"
   ]
  },
  {
   "cell_type": "code",
   "execution_count": 81,
   "metadata": {},
   "outputs": [
    {
     "name": "stdout",
     "output_type": "stream",
     "text": [
      "Model: \"sequential_6\"\n",
      "_________________________________________________________________\n",
      "Layer (type)                 Output Shape              Param #   \n",
      "=================================================================\n",
      "conv2d_28 (Conv2D)           (None, 224, 224, 64)      640       \n",
      "_________________________________________________________________\n",
      "conv2d_29 (Conv2D)           (None, 224, 224, 64)      36928     \n",
      "_________________________________________________________________\n",
      "max_pooling2d_28 (MaxPooling (None, 112, 112, 64)      0         \n",
      "_________________________________________________________________\n",
      "conv2d_30 (Conv2D)           (None, 112, 112, 128)     73856     \n",
      "_________________________________________________________________\n",
      "conv2d_31 (Conv2D)           (None, 112, 112, 128)     147584    \n",
      "_________________________________________________________________\n",
      "max_pooling2d_29 (MaxPooling (None, 56, 56, 128)       0         \n",
      "_________________________________________________________________\n",
      "conv2d_32 (Conv2D)           (None, 56, 56, 256)       295168    \n",
      "_________________________________________________________________\n",
      "conv2d_33 (Conv2D)           (None, 56, 56, 256)       590080    \n",
      "_________________________________________________________________\n",
      "conv2d_34 (Conv2D)           (None, 56, 56, 256)       590080    \n",
      "_________________________________________________________________\n",
      "max_pooling2d_30 (MaxPooling (None, 28, 28, 256)       0         \n",
      "_________________________________________________________________\n",
      "conv2d_35 (Conv2D)           (None, 28, 28, 512)       1180160   \n",
      "_________________________________________________________________\n",
      "conv2d_36 (Conv2D)           (None, 28, 28, 512)       2359808   \n",
      "_________________________________________________________________\n",
      "conv2d_37 (Conv2D)           (None, 28, 28, 512)       2359808   \n",
      "_________________________________________________________________\n",
      "max_pooling2d_31 (MaxPooling (None, 14, 14, 512)       0         \n",
      "_________________________________________________________________\n",
      "conv2d_38 (Conv2D)           (None, 14, 14, 512)       2359808   \n",
      "_________________________________________________________________\n",
      "conv2d_39 (Conv2D)           (None, 14, 14, 512)       2359808   \n",
      "_________________________________________________________________\n",
      "conv2d_40 (Conv2D)           (None, 14, 14, 512)       2359808   \n",
      "_________________________________________________________________\n",
      "max_pooling2d_32 (MaxPooling (None, 7, 7, 512)         0         \n",
      "_________________________________________________________________\n",
      "flatten_6 (Flatten)          (None, 25088)             0         \n",
      "_________________________________________________________________\n",
      "dense_6 (Dense)              (None, 256)               6422784   \n",
      "_________________________________________________________________\n",
      "dense_7 (Dense)              (None, 256)               65792     \n",
      "_________________________________________________________________\n",
      "dense_8 (Dense)              (None, 2)                 514       \n",
      "=================================================================\n",
      "Total params: 21,202,626\n",
      "Trainable params: 21,202,626\n",
      "Non-trainable params: 0\n",
      "_________________________________________________________________\n"
     ]
    }
   ],
   "source": [
    "model.summary()"
   ]
  },
  {
   "cell_type": "code",
   "execution_count": 82,
   "metadata": {},
   "outputs": [
    {
     "name": "stdout",
     "output_type": "stream",
     "text": [
      "Epoch 1/1000\n",
      "24/24 - 20s - loss: 6.4337 - acc: 0.6147 - val_loss: 0.6675 - val_acc: 0.6260\n",
      "Epoch 2/1000\n",
      "24/24 - 7s - loss: 0.6657 - acc: 0.6269 - val_loss: 0.6617 - val_acc: 0.6260\n",
      "Epoch 3/1000\n",
      "24/24 - 7s - loss: 0.6623 - acc: 0.6282 - val_loss: 0.6612 - val_acc: 0.6260\n",
      "Epoch 4/1000\n",
      "24/24 - 7s - loss: 0.6623 - acc: 0.6282 - val_loss: 0.6630 - val_acc: 0.6260\n",
      "Epoch 5/1000\n",
      "24/24 - 7s - loss: 0.6631 - acc: 0.6282 - val_loss: 0.6612 - val_acc: 0.6260\n",
      "Epoch 6/1000\n",
      "24/24 - 7s - loss: 0.6617 - acc: 0.6282 - val_loss: 0.6616 - val_acc: 0.6260\n",
      "Epoch 7/1000\n",
      "24/24 - 7s - loss: 0.6624 - acc: 0.6282 - val_loss: 0.6610 - val_acc: 0.6260\n",
      "Restoring model weights from the end of the best epoch.\n",
      "Epoch 00007: early stopping\n"
     ]
    }
   ],
   "source": [
    "from tensorflow.keras.callbacks import EarlyStopping\n",
    "monitor = EarlyStopping(monitor='val_loss', min_delta=1e-3, patience=5, \n",
    "                        verbose=1, mode='auto', restore_best_weights=True)\n",
    "import time, datetime\n",
    "start = datetime.datetime.now()\n",
    "model.fit(train_X,train_y,validation_data=(test_X,test_y),\n",
    "          callbacks=[monitor],verbose=2,epochs=1000)\n",
    "end = datetime.datetime.now()\n",
    "diff = (end - start)"
   ]
  },
  {
   "cell_type": "code",
   "execution_count": 51,
   "metadata": {},
   "outputs": [
    {
     "data": {
      "text/plain": [
       "datetime.timedelta(seconds=64, microseconds=778446)"
      ]
     },
     "execution_count": 51,
     "metadata": {},
     "output_type": "execute_result"
    }
   ],
   "source": [
    "end-start"
   ]
  },
  {
   "cell_type": "markdown",
   "metadata": {},
   "source": [
    "end-start\n",
    "model.save('VGG16_WOT.h5')"
   ]
  },
  {
   "cell_type": "markdown",
   "metadata": {},
   "source": [
    "# transfer learning from Resnet50"
   ]
  },
  {
   "cell_type": "code",
   "execution_count": 39,
   "metadata": {},
   "outputs": [],
   "source": [
    "from keras.applications.resnet50 import ResNet50"
   ]
  },
  {
   "cell_type": "markdown",
   "metadata": {},
   "source": [
    "import tensorflow_hub as hub\n",
    "import urllib"
   ]
  },
  {
   "cell_type": "markdown",
   "metadata": {},
   "source": [
    "feature_extractor_model = 'https://tfhub.dev/google/imagenet/resnet_v2_50/feature_vector/4'\n",
    "pretrain_model_without_top_layer=hub.KerasLayer(feature_extractor_model, input_shape=(224,224,3), trainable=False) \n",
    "#trainable=false is freeze the hiddent layers,basically all the layers except the output layer"
   ]
  },
  {
   "cell_type": "markdown",
   "metadata": {},
   "source": [
    "X.shape"
   ]
  },
  {
   "cell_type": "code",
   "execution_count": 40,
   "metadata": {},
   "outputs": [],
   "source": [
    "rgb_X = np.repeat(Z[..., np.newaxis], 3, -1)"
   ]
  },
  {
   "cell_type": "code",
   "execution_count": 41,
   "metadata": {},
   "outputs": [
    {
     "data": {
      "text/plain": [
       "(1183, 224, 224, 3)"
      ]
     },
     "execution_count": 41,
     "metadata": {},
     "output_type": "execute_result"
    }
   ],
   "source": [
    "rgb_X.shape"
   ]
  },
  {
   "cell_type": "code",
   "execution_count": 42,
   "metadata": {},
   "outputs": [],
   "source": [
    "train_X, test_X, train_y, test_y = train_test_split(rgb_X, y,stratify=y, \n",
    "                                                    test_size=0.25)"
   ]
  },
  {
   "cell_type": "code",
   "execution_count": 43,
   "metadata": {},
   "outputs": [
    {
     "data": {
      "text/plain": [
       "(887, 224, 224, 3)"
      ]
     },
     "execution_count": 43,
     "metadata": {},
     "output_type": "execute_result"
    }
   ],
   "source": [
    "train_X.shape"
   ]
  },
  {
   "cell_type": "markdown",
   "metadata": {
    "scrolled": true
   },
   "source": [
    "num_MP =2\n",
    "model1 = tf.keras.Sequential([\n",
    "pretrain_model_without_top_layer,layers.Flatten(),\n",
    "tf.keras.layers.Dense(num_MP,activation='softmax')])\n",
    "    \n",
    "model1.compile(optimizer='adam', loss='sparse_categorical_crossentropy',metrics=['acc'])\n",
    "    \n",
    "\n",
    "model1.summary()"
   ]
  },
  {
   "cell_type": "code",
   "execution_count": 44,
   "metadata": {},
   "outputs": [
    {
     "data": {
      "text/plain": [
       "(887, 224, 224, 3)"
      ]
     },
     "execution_count": 44,
     "metadata": {},
     "output_type": "execute_result"
    }
   ],
   "source": [
    "train_y.shape\n",
    "train_X.shape"
   ]
  },
  {
   "cell_type": "markdown",
   "metadata": {
    "scrolled": true
   },
   "source": [
    "import time, datetime\n",
    "start = datetime.datetime.now()\n",
    "monitor = EarlyStopping(monitor='val_loss', min_delta=1e-3, patience=5, \n",
    "                        verbose=1, mode='auto', restore_best_weights=True)\n",
    "model1.fit(train_X,train_y,validation_data=(test_X,test_y),\n",
    "          callbacks=[monitor],verbose=2,epochs=1000)\n",
    "end = datetime.datetime.now()"
   ]
  },
  {
   "cell_type": "markdown",
   "metadata": {},
   "source": [
    "preds = model.evaluate(test_X, test_y)\n",
    "print('loss ='+ str(preds[\n",
    "                    0]))\n",
    "print('test accuracy =' + str(\n",
    "      preds[1]))"
   ]
  },
  {
   "cell_type": "markdown",
   "metadata": {},
   "source": [
    "end-start"
   ]
  },
  {
   "cell_type": "code",
   "execution_count": 45,
   "metadata": {},
   "outputs": [],
   "source": [
    "IMAGE_SHAPE =(224,224)"
   ]
  },
  {
   "cell_type": "code",
   "execution_count": 46,
   "metadata": {},
   "outputs": [],
   "source": [
    "resnet = ResNet50(input_shape=IMAGE_SHAPE+(3,), weights ='imagenet', include_top=False)"
   ]
  },
  {
   "cell_type": "code",
   "execution_count": 47,
   "metadata": {},
   "outputs": [],
   "source": [
    "for layer in resnet.layers:\n",
    "    layer.trainable = False"
   ]
  },
  {
   "cell_type": "code",
   "execution_count": 48,
   "metadata": {},
   "outputs": [],
   "source": [
    "from keras.layers import Input, Lambda, Dense, Flatten\n",
    "num_MP =2\n",
    "x = Flatten()(resnet.output)\n",
    "prediction = Dense((num_MP), activation='softmax')(x)"
   ]
  },
  {
   "cell_type": "code",
   "execution_count": 49,
   "metadata": {
    "scrolled": true
   },
   "outputs": [
    {
     "name": "stdout",
     "output_type": "stream",
     "text": [
      "Model: \"model\"\n",
      "__________________________________________________________________________________________________\n",
      "Layer (type)                    Output Shape         Param #     Connected to                     \n",
      "==================================================================================================\n",
      "input_1 (InputLayer)            [(None, 224, 224, 3) 0                                            \n",
      "__________________________________________________________________________________________________\n",
      "conv1_pad (ZeroPadding2D)       (None, 230, 230, 3)  0           input_1[0][0]                    \n",
      "__________________________________________________________________________________________________\n",
      "conv1_conv (Conv2D)             (None, 112, 112, 64) 9472        conv1_pad[0][0]                  \n",
      "__________________________________________________________________________________________________\n",
      "conv1_bn (BatchNormalization)   (None, 112, 112, 64) 256         conv1_conv[0][0]                 \n",
      "__________________________________________________________________________________________________\n",
      "conv1_relu (Activation)         (None, 112, 112, 64) 0           conv1_bn[0][0]                   \n",
      "__________________________________________________________________________________________________\n",
      "pool1_pad (ZeroPadding2D)       (None, 114, 114, 64) 0           conv1_relu[0][0]                 \n",
      "__________________________________________________________________________________________________\n",
      "pool1_pool (MaxPooling2D)       (None, 56, 56, 64)   0           pool1_pad[0][0]                  \n",
      "__________________________________________________________________________________________________\n",
      "conv2_block1_1_conv (Conv2D)    (None, 56, 56, 64)   4160        pool1_pool[0][0]                 \n",
      "__________________________________________________________________________________________________\n",
      "conv2_block1_1_bn (BatchNormali (None, 56, 56, 64)   256         conv2_block1_1_conv[0][0]        \n",
      "__________________________________________________________________________________________________\n",
      "conv2_block1_1_relu (Activation (None, 56, 56, 64)   0           conv2_block1_1_bn[0][0]          \n",
      "__________________________________________________________________________________________________\n",
      "conv2_block1_2_conv (Conv2D)    (None, 56, 56, 64)   36928       conv2_block1_1_relu[0][0]        \n",
      "__________________________________________________________________________________________________\n",
      "conv2_block1_2_bn (BatchNormali (None, 56, 56, 64)   256         conv2_block1_2_conv[0][0]        \n",
      "__________________________________________________________________________________________________\n",
      "conv2_block1_2_relu (Activation (None, 56, 56, 64)   0           conv2_block1_2_bn[0][0]          \n",
      "__________________________________________________________________________________________________\n",
      "conv2_block1_0_conv (Conv2D)    (None, 56, 56, 256)  16640       pool1_pool[0][0]                 \n",
      "__________________________________________________________________________________________________\n",
      "conv2_block1_3_conv (Conv2D)    (None, 56, 56, 256)  16640       conv2_block1_2_relu[0][0]        \n",
      "__________________________________________________________________________________________________\n",
      "conv2_block1_0_bn (BatchNormali (None, 56, 56, 256)  1024        conv2_block1_0_conv[0][0]        \n",
      "__________________________________________________________________________________________________\n",
      "conv2_block1_3_bn (BatchNormali (None, 56, 56, 256)  1024        conv2_block1_3_conv[0][0]        \n",
      "__________________________________________________________________________________________________\n",
      "conv2_block1_add (Add)          (None, 56, 56, 256)  0           conv2_block1_0_bn[0][0]          \n",
      "                                                                 conv2_block1_3_bn[0][0]          \n",
      "__________________________________________________________________________________________________\n",
      "conv2_block1_out (Activation)   (None, 56, 56, 256)  0           conv2_block1_add[0][0]           \n",
      "__________________________________________________________________________________________________\n",
      "conv2_block2_1_conv (Conv2D)    (None, 56, 56, 64)   16448       conv2_block1_out[0][0]           \n",
      "__________________________________________________________________________________________________\n",
      "conv2_block2_1_bn (BatchNormali (None, 56, 56, 64)   256         conv2_block2_1_conv[0][0]        \n",
      "__________________________________________________________________________________________________\n",
      "conv2_block2_1_relu (Activation (None, 56, 56, 64)   0           conv2_block2_1_bn[0][0]          \n",
      "__________________________________________________________________________________________________\n",
      "conv2_block2_2_conv (Conv2D)    (None, 56, 56, 64)   36928       conv2_block2_1_relu[0][0]        \n",
      "__________________________________________________________________________________________________\n",
      "conv2_block2_2_bn (BatchNormali (None, 56, 56, 64)   256         conv2_block2_2_conv[0][0]        \n",
      "__________________________________________________________________________________________________\n",
      "conv2_block2_2_relu (Activation (None, 56, 56, 64)   0           conv2_block2_2_bn[0][0]          \n",
      "__________________________________________________________________________________________________\n",
      "conv2_block2_3_conv (Conv2D)    (None, 56, 56, 256)  16640       conv2_block2_2_relu[0][0]        \n",
      "__________________________________________________________________________________________________\n",
      "conv2_block2_3_bn (BatchNormali (None, 56, 56, 256)  1024        conv2_block2_3_conv[0][0]        \n",
      "__________________________________________________________________________________________________\n",
      "conv2_block2_add (Add)          (None, 56, 56, 256)  0           conv2_block1_out[0][0]           \n",
      "                                                                 conv2_block2_3_bn[0][0]          \n",
      "__________________________________________________________________________________________________\n",
      "conv2_block2_out (Activation)   (None, 56, 56, 256)  0           conv2_block2_add[0][0]           \n",
      "__________________________________________________________________________________________________\n",
      "conv2_block3_1_conv (Conv2D)    (None, 56, 56, 64)   16448       conv2_block2_out[0][0]           \n",
      "__________________________________________________________________________________________________\n",
      "conv2_block3_1_bn (BatchNormali (None, 56, 56, 64)   256         conv2_block3_1_conv[0][0]        \n",
      "__________________________________________________________________________________________________\n",
      "conv2_block3_1_relu (Activation (None, 56, 56, 64)   0           conv2_block3_1_bn[0][0]          \n",
      "__________________________________________________________________________________________________\n",
      "conv2_block3_2_conv (Conv2D)    (None, 56, 56, 64)   36928       conv2_block3_1_relu[0][0]        \n",
      "__________________________________________________________________________________________________\n",
      "conv2_block3_2_bn (BatchNormali (None, 56, 56, 64)   256         conv2_block3_2_conv[0][0]        \n",
      "__________________________________________________________________________________________________\n",
      "conv2_block3_2_relu (Activation (None, 56, 56, 64)   0           conv2_block3_2_bn[0][0]          \n",
      "__________________________________________________________________________________________________\n",
      "conv2_block3_3_conv (Conv2D)    (None, 56, 56, 256)  16640       conv2_block3_2_relu[0][0]        \n",
      "__________________________________________________________________________________________________\n",
      "conv2_block3_3_bn (BatchNormali (None, 56, 56, 256)  1024        conv2_block3_3_conv[0][0]        \n",
      "__________________________________________________________________________________________________\n",
      "conv2_block3_add (Add)          (None, 56, 56, 256)  0           conv2_block2_out[0][0]           \n",
      "                                                                 conv2_block3_3_bn[0][0]          \n",
      "__________________________________________________________________________________________________\n",
      "conv2_block3_out (Activation)   (None, 56, 56, 256)  0           conv2_block3_add[0][0]           \n",
      "__________________________________________________________________________________________________\n",
      "conv3_block1_1_conv (Conv2D)    (None, 28, 28, 128)  32896       conv2_block3_out[0][0]           \n",
      "__________________________________________________________________________________________________\n",
      "conv3_block1_1_bn (BatchNormali (None, 28, 28, 128)  512         conv3_block1_1_conv[0][0]        \n",
      "__________________________________________________________________________________________________\n",
      "conv3_block1_1_relu (Activation (None, 28, 28, 128)  0           conv3_block1_1_bn[0][0]          \n",
      "__________________________________________________________________________________________________\n",
      "conv3_block1_2_conv (Conv2D)    (None, 28, 28, 128)  147584      conv3_block1_1_relu[0][0]        \n",
      "__________________________________________________________________________________________________\n",
      "conv3_block1_2_bn (BatchNormali (None, 28, 28, 128)  512         conv3_block1_2_conv[0][0]        \n",
      "__________________________________________________________________________________________________\n",
      "conv3_block1_2_relu (Activation (None, 28, 28, 128)  0           conv3_block1_2_bn[0][0]          \n",
      "__________________________________________________________________________________________________\n",
      "conv3_block1_0_conv (Conv2D)    (None, 28, 28, 512)  131584      conv2_block3_out[0][0]           \n",
      "__________________________________________________________________________________________________\n",
      "conv3_block1_3_conv (Conv2D)    (None, 28, 28, 512)  66048       conv3_block1_2_relu[0][0]        \n",
      "__________________________________________________________________________________________________\n",
      "conv3_block1_0_bn (BatchNormali (None, 28, 28, 512)  2048        conv3_block1_0_conv[0][0]        \n",
      "__________________________________________________________________________________________________\n",
      "conv3_block1_3_bn (BatchNormali (None, 28, 28, 512)  2048        conv3_block1_3_conv[0][0]        \n",
      "__________________________________________________________________________________________________\n",
      "conv3_block1_add (Add)          (None, 28, 28, 512)  0           conv3_block1_0_bn[0][0]          \n",
      "                                                                 conv3_block1_3_bn[0][0]          \n",
      "__________________________________________________________________________________________________\n",
      "conv3_block1_out (Activation)   (None, 28, 28, 512)  0           conv3_block1_add[0][0]           \n",
      "__________________________________________________________________________________________________\n",
      "conv3_block2_1_conv (Conv2D)    (None, 28, 28, 128)  65664       conv3_block1_out[0][0]           \n",
      "__________________________________________________________________________________________________\n",
      "conv3_block2_1_bn (BatchNormali (None, 28, 28, 128)  512         conv3_block2_1_conv[0][0]        \n",
      "__________________________________________________________________________________________________\n",
      "conv3_block2_1_relu (Activation (None, 28, 28, 128)  0           conv3_block2_1_bn[0][0]          \n",
      "__________________________________________________________________________________________________\n",
      "conv3_block2_2_conv (Conv2D)    (None, 28, 28, 128)  147584      conv3_block2_1_relu[0][0]        \n",
      "__________________________________________________________________________________________________\n",
      "conv3_block2_2_bn (BatchNormali (None, 28, 28, 128)  512         conv3_block2_2_conv[0][0]        \n",
      "__________________________________________________________________________________________________\n",
      "conv3_block2_2_relu (Activation (None, 28, 28, 128)  0           conv3_block2_2_bn[0][0]          \n",
      "__________________________________________________________________________________________________\n",
      "conv3_block2_3_conv (Conv2D)    (None, 28, 28, 512)  66048       conv3_block2_2_relu[0][0]        \n",
      "__________________________________________________________________________________________________\n",
      "conv3_block2_3_bn (BatchNormali (None, 28, 28, 512)  2048        conv3_block2_3_conv[0][0]        \n",
      "__________________________________________________________________________________________________\n",
      "conv3_block2_add (Add)          (None, 28, 28, 512)  0           conv3_block1_out[0][0]           \n",
      "                                                                 conv3_block2_3_bn[0][0]          \n",
      "__________________________________________________________________________________________________\n",
      "conv3_block2_out (Activation)   (None, 28, 28, 512)  0           conv3_block2_add[0][0]           \n",
      "__________________________________________________________________________________________________\n",
      "conv3_block3_1_conv (Conv2D)    (None, 28, 28, 128)  65664       conv3_block2_out[0][0]           \n",
      "__________________________________________________________________________________________________\n",
      "conv3_block3_1_bn (BatchNormali (None, 28, 28, 128)  512         conv3_block3_1_conv[0][0]        \n",
      "__________________________________________________________________________________________________\n",
      "conv3_block3_1_relu (Activation (None, 28, 28, 128)  0           conv3_block3_1_bn[0][0]          \n",
      "__________________________________________________________________________________________________\n",
      "conv3_block3_2_conv (Conv2D)    (None, 28, 28, 128)  147584      conv3_block3_1_relu[0][0]        \n",
      "__________________________________________________________________________________________________\n",
      "conv3_block3_2_bn (BatchNormali (None, 28, 28, 128)  512         conv3_block3_2_conv[0][0]        \n",
      "__________________________________________________________________________________________________\n",
      "conv3_block3_2_relu (Activation (None, 28, 28, 128)  0           conv3_block3_2_bn[0][0]          \n",
      "__________________________________________________________________________________________________\n",
      "conv3_block3_3_conv (Conv2D)    (None, 28, 28, 512)  66048       conv3_block3_2_relu[0][0]        \n",
      "__________________________________________________________________________________________________\n",
      "conv3_block3_3_bn (BatchNormali (None, 28, 28, 512)  2048        conv3_block3_3_conv[0][0]        \n",
      "__________________________________________________________________________________________________\n",
      "conv3_block3_add (Add)          (None, 28, 28, 512)  0           conv3_block2_out[0][0]           \n",
      "                                                                 conv3_block3_3_bn[0][0]          \n",
      "__________________________________________________________________________________________________\n",
      "conv3_block3_out (Activation)   (None, 28, 28, 512)  0           conv3_block3_add[0][0]           \n",
      "__________________________________________________________________________________________________\n",
      "conv3_block4_1_conv (Conv2D)    (None, 28, 28, 128)  65664       conv3_block3_out[0][0]           \n",
      "__________________________________________________________________________________________________\n",
      "conv3_block4_1_bn (BatchNormali (None, 28, 28, 128)  512         conv3_block4_1_conv[0][0]        \n",
      "__________________________________________________________________________________________________\n",
      "conv3_block4_1_relu (Activation (None, 28, 28, 128)  0           conv3_block4_1_bn[0][0]          \n",
      "__________________________________________________________________________________________________\n",
      "conv3_block4_2_conv (Conv2D)    (None, 28, 28, 128)  147584      conv3_block4_1_relu[0][0]        \n",
      "__________________________________________________________________________________________________\n",
      "conv3_block4_2_bn (BatchNormali (None, 28, 28, 128)  512         conv3_block4_2_conv[0][0]        \n",
      "__________________________________________________________________________________________________\n",
      "conv3_block4_2_relu (Activation (None, 28, 28, 128)  0           conv3_block4_2_bn[0][0]          \n",
      "__________________________________________________________________________________________________\n",
      "conv3_block4_3_conv (Conv2D)    (None, 28, 28, 512)  66048       conv3_block4_2_relu[0][0]        \n",
      "__________________________________________________________________________________________________\n",
      "conv3_block4_3_bn (BatchNormali (None, 28, 28, 512)  2048        conv3_block4_3_conv[0][0]        \n",
      "__________________________________________________________________________________________________\n",
      "conv3_block4_add (Add)          (None, 28, 28, 512)  0           conv3_block3_out[0][0]           \n",
      "                                                                 conv3_block4_3_bn[0][0]          \n",
      "__________________________________________________________________________________________________\n",
      "conv3_block4_out (Activation)   (None, 28, 28, 512)  0           conv3_block4_add[0][0]           \n",
      "__________________________________________________________________________________________________\n",
      "conv4_block1_1_conv (Conv2D)    (None, 14, 14, 256)  131328      conv3_block4_out[0][0]           \n",
      "__________________________________________________________________________________________________\n",
      "conv4_block1_1_bn (BatchNormali (None, 14, 14, 256)  1024        conv4_block1_1_conv[0][0]        \n",
      "__________________________________________________________________________________________________\n",
      "conv4_block1_1_relu (Activation (None, 14, 14, 256)  0           conv4_block1_1_bn[0][0]          \n",
      "__________________________________________________________________________________________________\n",
      "conv4_block1_2_conv (Conv2D)    (None, 14, 14, 256)  590080      conv4_block1_1_relu[0][0]        \n",
      "__________________________________________________________________________________________________\n",
      "conv4_block1_2_bn (BatchNormali (None, 14, 14, 256)  1024        conv4_block1_2_conv[0][0]        \n",
      "__________________________________________________________________________________________________\n",
      "conv4_block1_2_relu (Activation (None, 14, 14, 256)  0           conv4_block1_2_bn[0][0]          \n",
      "__________________________________________________________________________________________________\n",
      "conv4_block1_0_conv (Conv2D)    (None, 14, 14, 1024) 525312      conv3_block4_out[0][0]           \n",
      "__________________________________________________________________________________________________\n",
      "conv4_block1_3_conv (Conv2D)    (None, 14, 14, 1024) 263168      conv4_block1_2_relu[0][0]        \n",
      "__________________________________________________________________________________________________\n",
      "conv4_block1_0_bn (BatchNormali (None, 14, 14, 1024) 4096        conv4_block1_0_conv[0][0]        \n",
      "__________________________________________________________________________________________________\n",
      "conv4_block1_3_bn (BatchNormali (None, 14, 14, 1024) 4096        conv4_block1_3_conv[0][0]        \n",
      "__________________________________________________________________________________________________\n",
      "conv4_block1_add (Add)          (None, 14, 14, 1024) 0           conv4_block1_0_bn[0][0]          \n",
      "                                                                 conv4_block1_3_bn[0][0]          \n",
      "__________________________________________________________________________________________________\n",
      "conv4_block1_out (Activation)   (None, 14, 14, 1024) 0           conv4_block1_add[0][0]           \n",
      "__________________________________________________________________________________________________\n",
      "conv4_block2_1_conv (Conv2D)    (None, 14, 14, 256)  262400      conv4_block1_out[0][0]           \n",
      "__________________________________________________________________________________________________\n",
      "conv4_block2_1_bn (BatchNormali (None, 14, 14, 256)  1024        conv4_block2_1_conv[0][0]        \n",
      "__________________________________________________________________________________________________\n",
      "conv4_block2_1_relu (Activation (None, 14, 14, 256)  0           conv4_block2_1_bn[0][0]          \n",
      "__________________________________________________________________________________________________\n",
      "conv4_block2_2_conv (Conv2D)    (None, 14, 14, 256)  590080      conv4_block2_1_relu[0][0]        \n",
      "__________________________________________________________________________________________________\n",
      "conv4_block2_2_bn (BatchNormali (None, 14, 14, 256)  1024        conv4_block2_2_conv[0][0]        \n",
      "__________________________________________________________________________________________________\n",
      "conv4_block2_2_relu (Activation (None, 14, 14, 256)  0           conv4_block2_2_bn[0][0]          \n",
      "__________________________________________________________________________________________________\n",
      "conv4_block2_3_conv (Conv2D)    (None, 14, 14, 1024) 263168      conv4_block2_2_relu[0][0]        \n",
      "__________________________________________________________________________________________________\n",
      "conv4_block2_3_bn (BatchNormali (None, 14, 14, 1024) 4096        conv4_block2_3_conv[0][0]        \n",
      "__________________________________________________________________________________________________\n",
      "conv4_block2_add (Add)          (None, 14, 14, 1024) 0           conv4_block1_out[0][0]           \n",
      "                                                                 conv4_block2_3_bn[0][0]          \n",
      "__________________________________________________________________________________________________\n",
      "conv4_block2_out (Activation)   (None, 14, 14, 1024) 0           conv4_block2_add[0][0]           \n",
      "__________________________________________________________________________________________________\n",
      "conv4_block3_1_conv (Conv2D)    (None, 14, 14, 256)  262400      conv4_block2_out[0][0]           \n",
      "__________________________________________________________________________________________________\n",
      "conv4_block3_1_bn (BatchNormali (None, 14, 14, 256)  1024        conv4_block3_1_conv[0][0]        \n",
      "__________________________________________________________________________________________________\n",
      "conv4_block3_1_relu (Activation (None, 14, 14, 256)  0           conv4_block3_1_bn[0][0]          \n",
      "__________________________________________________________________________________________________\n",
      "conv4_block3_2_conv (Conv2D)    (None, 14, 14, 256)  590080      conv4_block3_1_relu[0][0]        \n",
      "__________________________________________________________________________________________________\n",
      "conv4_block3_2_bn (BatchNormali (None, 14, 14, 256)  1024        conv4_block3_2_conv[0][0]        \n",
      "__________________________________________________________________________________________________\n",
      "conv4_block3_2_relu (Activation (None, 14, 14, 256)  0           conv4_block3_2_bn[0][0]          \n",
      "__________________________________________________________________________________________________\n",
      "conv4_block3_3_conv (Conv2D)    (None, 14, 14, 1024) 263168      conv4_block3_2_relu[0][0]        \n",
      "__________________________________________________________________________________________________\n",
      "conv4_block3_3_bn (BatchNormali (None, 14, 14, 1024) 4096        conv4_block3_3_conv[0][0]        \n",
      "__________________________________________________________________________________________________\n",
      "conv4_block3_add (Add)          (None, 14, 14, 1024) 0           conv4_block2_out[0][0]           \n",
      "                                                                 conv4_block3_3_bn[0][0]          \n",
      "__________________________________________________________________________________________________\n",
      "conv4_block3_out (Activation)   (None, 14, 14, 1024) 0           conv4_block3_add[0][0]           \n",
      "__________________________________________________________________________________________________\n",
      "conv4_block4_1_conv (Conv2D)    (None, 14, 14, 256)  262400      conv4_block3_out[0][0]           \n",
      "__________________________________________________________________________________________________\n",
      "conv4_block4_1_bn (BatchNormali (None, 14, 14, 256)  1024        conv4_block4_1_conv[0][0]        \n",
      "__________________________________________________________________________________________________\n",
      "conv4_block4_1_relu (Activation (None, 14, 14, 256)  0           conv4_block4_1_bn[0][0]          \n",
      "__________________________________________________________________________________________________\n",
      "conv4_block4_2_conv (Conv2D)    (None, 14, 14, 256)  590080      conv4_block4_1_relu[0][0]        \n",
      "__________________________________________________________________________________________________\n",
      "conv4_block4_2_bn (BatchNormali (None, 14, 14, 256)  1024        conv4_block4_2_conv[0][0]        \n",
      "__________________________________________________________________________________________________\n",
      "conv4_block4_2_relu (Activation (None, 14, 14, 256)  0           conv4_block4_2_bn[0][0]          \n",
      "__________________________________________________________________________________________________\n",
      "conv4_block4_3_conv (Conv2D)    (None, 14, 14, 1024) 263168      conv4_block4_2_relu[0][0]        \n",
      "__________________________________________________________________________________________________\n",
      "conv4_block4_3_bn (BatchNormali (None, 14, 14, 1024) 4096        conv4_block4_3_conv[0][0]        \n",
      "__________________________________________________________________________________________________\n",
      "conv4_block4_add (Add)          (None, 14, 14, 1024) 0           conv4_block3_out[0][0]           \n",
      "                                                                 conv4_block4_3_bn[0][0]          \n",
      "__________________________________________________________________________________________________\n",
      "conv4_block4_out (Activation)   (None, 14, 14, 1024) 0           conv4_block4_add[0][0]           \n",
      "__________________________________________________________________________________________________\n",
      "conv4_block5_1_conv (Conv2D)    (None, 14, 14, 256)  262400      conv4_block4_out[0][0]           \n",
      "__________________________________________________________________________________________________\n",
      "conv4_block5_1_bn (BatchNormali (None, 14, 14, 256)  1024        conv4_block5_1_conv[0][0]        \n",
      "__________________________________________________________________________________________________\n",
      "conv4_block5_1_relu (Activation (None, 14, 14, 256)  0           conv4_block5_1_bn[0][0]          \n",
      "__________________________________________________________________________________________________\n",
      "conv4_block5_2_conv (Conv2D)    (None, 14, 14, 256)  590080      conv4_block5_1_relu[0][0]        \n",
      "__________________________________________________________________________________________________\n",
      "conv4_block5_2_bn (BatchNormali (None, 14, 14, 256)  1024        conv4_block5_2_conv[0][0]        \n",
      "__________________________________________________________________________________________________\n",
      "conv4_block5_2_relu (Activation (None, 14, 14, 256)  0           conv4_block5_2_bn[0][0]          \n",
      "__________________________________________________________________________________________________\n",
      "conv4_block5_3_conv (Conv2D)    (None, 14, 14, 1024) 263168      conv4_block5_2_relu[0][0]        \n",
      "__________________________________________________________________________________________________\n",
      "conv4_block5_3_bn (BatchNormali (None, 14, 14, 1024) 4096        conv4_block5_3_conv[0][0]        \n",
      "__________________________________________________________________________________________________\n",
      "conv4_block5_add (Add)          (None, 14, 14, 1024) 0           conv4_block4_out[0][0]           \n",
      "                                                                 conv4_block5_3_bn[0][0]          \n",
      "__________________________________________________________________________________________________\n",
      "conv4_block5_out (Activation)   (None, 14, 14, 1024) 0           conv4_block5_add[0][0]           \n",
      "__________________________________________________________________________________________________\n",
      "conv4_block6_1_conv (Conv2D)    (None, 14, 14, 256)  262400      conv4_block5_out[0][0]           \n",
      "__________________________________________________________________________________________________\n",
      "conv4_block6_1_bn (BatchNormali (None, 14, 14, 256)  1024        conv4_block6_1_conv[0][0]        \n",
      "__________________________________________________________________________________________________\n",
      "conv4_block6_1_relu (Activation (None, 14, 14, 256)  0           conv4_block6_1_bn[0][0]          \n",
      "__________________________________________________________________________________________________\n",
      "conv4_block6_2_conv (Conv2D)    (None, 14, 14, 256)  590080      conv4_block6_1_relu[0][0]        \n",
      "__________________________________________________________________________________________________\n",
      "conv4_block6_2_bn (BatchNormali (None, 14, 14, 256)  1024        conv4_block6_2_conv[0][0]        \n",
      "__________________________________________________________________________________________________\n",
      "conv4_block6_2_relu (Activation (None, 14, 14, 256)  0           conv4_block6_2_bn[0][0]          \n",
      "__________________________________________________________________________________________________\n",
      "conv4_block6_3_conv (Conv2D)    (None, 14, 14, 1024) 263168      conv4_block6_2_relu[0][0]        \n",
      "__________________________________________________________________________________________________\n",
      "conv4_block6_3_bn (BatchNormali (None, 14, 14, 1024) 4096        conv4_block6_3_conv[0][0]        \n",
      "__________________________________________________________________________________________________\n",
      "conv4_block6_add (Add)          (None, 14, 14, 1024) 0           conv4_block5_out[0][0]           \n",
      "                                                                 conv4_block6_3_bn[0][0]          \n",
      "__________________________________________________________________________________________________\n",
      "conv4_block6_out (Activation)   (None, 14, 14, 1024) 0           conv4_block6_add[0][0]           \n",
      "__________________________________________________________________________________________________\n",
      "conv5_block1_1_conv (Conv2D)    (None, 7, 7, 512)    524800      conv4_block6_out[0][0]           \n",
      "__________________________________________________________________________________________________\n",
      "conv5_block1_1_bn (BatchNormali (None, 7, 7, 512)    2048        conv5_block1_1_conv[0][0]        \n",
      "__________________________________________________________________________________________________\n",
      "conv5_block1_1_relu (Activation (None, 7, 7, 512)    0           conv5_block1_1_bn[0][0]          \n",
      "__________________________________________________________________________________________________\n",
      "conv5_block1_2_conv (Conv2D)    (None, 7, 7, 512)    2359808     conv5_block1_1_relu[0][0]        \n",
      "__________________________________________________________________________________________________\n",
      "conv5_block1_2_bn (BatchNormali (None, 7, 7, 512)    2048        conv5_block1_2_conv[0][0]        \n",
      "__________________________________________________________________________________________________\n",
      "conv5_block1_2_relu (Activation (None, 7, 7, 512)    0           conv5_block1_2_bn[0][0]          \n",
      "__________________________________________________________________________________________________\n",
      "conv5_block1_0_conv (Conv2D)    (None, 7, 7, 2048)   2099200     conv4_block6_out[0][0]           \n",
      "__________________________________________________________________________________________________\n",
      "conv5_block1_3_conv (Conv2D)    (None, 7, 7, 2048)   1050624     conv5_block1_2_relu[0][0]        \n",
      "__________________________________________________________________________________________________\n",
      "conv5_block1_0_bn (BatchNormali (None, 7, 7, 2048)   8192        conv5_block1_0_conv[0][0]        \n",
      "__________________________________________________________________________________________________\n",
      "conv5_block1_3_bn (BatchNormali (None, 7, 7, 2048)   8192        conv5_block1_3_conv[0][0]        \n",
      "__________________________________________________________________________________________________\n",
      "conv5_block1_add (Add)          (None, 7, 7, 2048)   0           conv5_block1_0_bn[0][0]          \n",
      "                                                                 conv5_block1_3_bn[0][0]          \n",
      "__________________________________________________________________________________________________\n",
      "conv5_block1_out (Activation)   (None, 7, 7, 2048)   0           conv5_block1_add[0][0]           \n",
      "__________________________________________________________________________________________________\n",
      "conv5_block2_1_conv (Conv2D)    (None, 7, 7, 512)    1049088     conv5_block1_out[0][0]           \n",
      "__________________________________________________________________________________________________\n",
      "conv5_block2_1_bn (BatchNormali (None, 7, 7, 512)    2048        conv5_block2_1_conv[0][0]        \n",
      "__________________________________________________________________________________________________\n",
      "conv5_block2_1_relu (Activation (None, 7, 7, 512)    0           conv5_block2_1_bn[0][0]          \n",
      "__________________________________________________________________________________________________\n",
      "conv5_block2_2_conv (Conv2D)    (None, 7, 7, 512)    2359808     conv5_block2_1_relu[0][0]        \n",
      "__________________________________________________________________________________________________\n",
      "conv5_block2_2_bn (BatchNormali (None, 7, 7, 512)    2048        conv5_block2_2_conv[0][0]        \n",
      "__________________________________________________________________________________________________\n",
      "conv5_block2_2_relu (Activation (None, 7, 7, 512)    0           conv5_block2_2_bn[0][0]          \n",
      "__________________________________________________________________________________________________\n",
      "conv5_block2_3_conv (Conv2D)    (None, 7, 7, 2048)   1050624     conv5_block2_2_relu[0][0]        \n",
      "__________________________________________________________________________________________________\n",
      "conv5_block2_3_bn (BatchNormali (None, 7, 7, 2048)   8192        conv5_block2_3_conv[0][0]        \n",
      "__________________________________________________________________________________________________\n",
      "conv5_block2_add (Add)          (None, 7, 7, 2048)   0           conv5_block1_out[0][0]           \n",
      "                                                                 conv5_block2_3_bn[0][0]          \n",
      "__________________________________________________________________________________________________\n",
      "conv5_block2_out (Activation)   (None, 7, 7, 2048)   0           conv5_block2_add[0][0]           \n",
      "__________________________________________________________________________________________________\n",
      "conv5_block3_1_conv (Conv2D)    (None, 7, 7, 512)    1049088     conv5_block2_out[0][0]           \n",
      "__________________________________________________________________________________________________\n",
      "conv5_block3_1_bn (BatchNormali (None, 7, 7, 512)    2048        conv5_block3_1_conv[0][0]        \n",
      "__________________________________________________________________________________________________\n",
      "conv5_block3_1_relu (Activation (None, 7, 7, 512)    0           conv5_block3_1_bn[0][0]          \n",
      "__________________________________________________________________________________________________\n",
      "conv5_block3_2_conv (Conv2D)    (None, 7, 7, 512)    2359808     conv5_block3_1_relu[0][0]        \n",
      "__________________________________________________________________________________________________\n",
      "conv5_block3_2_bn (BatchNormali (None, 7, 7, 512)    2048        conv5_block3_2_conv[0][0]        \n",
      "__________________________________________________________________________________________________\n",
      "conv5_block3_2_relu (Activation (None, 7, 7, 512)    0           conv5_block3_2_bn[0][0]          \n",
      "__________________________________________________________________________________________________\n",
      "conv5_block3_3_conv (Conv2D)    (None, 7, 7, 2048)   1050624     conv5_block3_2_relu[0][0]        \n",
      "__________________________________________________________________________________________________\n",
      "conv5_block3_3_bn (BatchNormali (None, 7, 7, 2048)   8192        conv5_block3_3_conv[0][0]        \n",
      "__________________________________________________________________________________________________\n",
      "conv5_block3_add (Add)          (None, 7, 7, 2048)   0           conv5_block2_out[0][0]           \n",
      "                                                                 conv5_block3_3_bn[0][0]          \n",
      "__________________________________________________________________________________________________\n",
      "conv5_block3_out (Activation)   (None, 7, 7, 2048)   0           conv5_block3_add[0][0]           \n",
      "__________________________________________________________________________________________________\n",
      "flatten_2 (Flatten)             (None, 100352)       0           conv5_block3_out[0][0]           \n",
      "__________________________________________________________________________________________________\n",
      "dense_4 (Dense)                 (None, 2)            200706      flatten_2[0][0]                  \n",
      "==================================================================================================\n",
      "Total params: 23,788,418\n",
      "Trainable params: 200,706\n",
      "Non-trainable params: 23,587,712\n",
      "__________________________________________________________________________________________________\n"
     ]
    }
   ],
   "source": [
    "from keras.models import Model\n",
    "model3=Model(inputs=resnet.input, outputs=prediction)\n",
    "    \n",
    "\n",
    "model3.summary()"
   ]
  },
  {
   "cell_type": "code",
   "execution_count": 50,
   "metadata": {},
   "outputs": [],
   "source": [
    "model3.compile(optimizer='adam', loss='sparse_categorical_crossentropy',metrics=['acc'])"
   ]
  },
  {
   "cell_type": "code",
   "execution_count": 51,
   "metadata": {
    "scrolled": false
   },
   "outputs": [
    {
     "name": "stdout",
     "output_type": "stream",
     "text": [
      "Epoch 1/1000\n",
      "28/28 - 7s - loss: 4.1994 - acc: 0.8061 - val_loss: 1.6004 - val_acc: 0.8851\n",
      "Epoch 2/1000\n",
      "28/28 - 2s - loss: 0.3892 - acc: 0.9684 - val_loss: 0.5398 - val_acc: 0.9595\n",
      "Epoch 3/1000\n",
      "28/28 - 2s - loss: 3.2924e-04 - acc: 1.0000 - val_loss: 0.5451 - val_acc: 0.9561\n",
      "Epoch 4/1000\n",
      "28/28 - 2s - loss: 0.0191 - acc: 0.9977 - val_loss: 0.5961 - val_acc: 0.9527\n",
      "Epoch 5/1000\n",
      "28/28 - 2s - loss: 1.3112e-04 - acc: 1.0000 - val_loss: 0.6015 - val_acc: 0.9561\n",
      "Epoch 6/1000\n",
      "28/28 - 2s - loss: 8.3090e-06 - acc: 1.0000 - val_loss: 0.5996 - val_acc: 0.9561\n",
      "Epoch 7/1000\n",
      "28/28 - 2s - loss: 6.0466e-06 - acc: 1.0000 - val_loss: 0.5973 - val_acc: 0.9561\n",
      "Restoring model weights from the end of the best epoch.\n",
      "Epoch 00007: early stopping\n"
     ]
    }
   ],
   "source": [
    "monitor = EarlyStopping(monitor='val_loss', min_delta=1e-3, patience=5, \n",
    "                        verbose=1, mode='auto', restore_best_weights=True)\n",
    "import time, datetime\n",
    "start = datetime.datetime.now()\n",
    "model3.fit(train_X,train_y,validation_data=(test_X,test_y),\n",
    "          callbacks=[monitor],verbose=2,epochs=1000)\n",
    "end = datetime.datetime.now()\n",
    "diff = (end - start)"
   ]
  },
  {
   "cell_type": "code",
   "execution_count": 52,
   "metadata": {
    "scrolled": true
   },
   "outputs": [
    {
     "data": {
      "text/plain": [
       "datetime.timedelta(seconds=21, microseconds=220756)"
      ]
     },
     "execution_count": 52,
     "metadata": {},
     "output_type": "execute_result"
    }
   ],
   "source": [
    "end-start"
   ]
  },
  {
   "cell_type": "markdown",
   "metadata": {},
   "source": [
    "model3.save('ResNet50_WT.h5')"
   ]
  },
  {
   "cell_type": "markdown",
   "metadata": {},
   "source": [
    "# transfer from VGG16"
   ]
  },
  {
   "cell_type": "code",
   "execution_count": 53,
   "metadata": {},
   "outputs": [],
   "source": [
    "from keras.layers import Input, Lambda, Dense, Flatten\n",
    "from keras.models import Model\n",
    "from keras.applications.vgg16 import VGG16\n",
    "from keras.applications.vgg16 import preprocess_input\n",
    "from keras.preprocessing import image\n",
    "from keras.preprocessing.image import ImageDataGenerator\n",
    "from keras.models import Sequential\n",
    "import numpy as np\n",
    "from glob import glob\n",
    "import matplotlib.pyplot as plt"
   ]
  },
  {
   "cell_type": "code",
   "execution_count": 54,
   "metadata": {},
   "outputs": [],
   "source": [
    "vgg = VGG16(input_shape=IMAGE_SHAPE+(3,), weights ='imagenet', include_top=False)"
   ]
  },
  {
   "cell_type": "code",
   "execution_count": 55,
   "metadata": {},
   "outputs": [],
   "source": [
    "for layer in vgg.layers:\n",
    "    layer.trainable=False"
   ]
  },
  {
   "cell_type": "code",
   "execution_count": 56,
   "metadata": {},
   "outputs": [
    {
     "name": "stdout",
     "output_type": "stream",
     "text": [
      "Model: \"sequential_2\"\n",
      "_________________________________________________________________\n",
      "Layer (type)                 Output Shape              Param #   \n",
      "=================================================================\n",
      "vgg16 (Functional)           (None, 7, 7, 512)         14714688  \n",
      "_________________________________________________________________\n",
      "flatten_3 (Flatten)          (None, 25088)             0         \n",
      "_________________________________________________________________\n",
      "dense_5 (Dense)              (None, 256)               6422784   \n",
      "_________________________________________________________________\n",
      "dense_6 (Dense)              (None, 256)               65792     \n",
      "_________________________________________________________________\n",
      "dense_7 (Dense)              (None, 2)                 514       \n",
      "=================================================================\n",
      "Total params: 21,203,778\n",
      "Trainable params: 6,489,090\n",
      "Non-trainable params: 14,714,688\n",
      "_________________________________________________________________\n"
     ]
    }
   ],
   "source": [
    "model2=keras.Sequential([vgg,\n",
    "                        keras.layers.Flatten(),\n",
    "                        keras.layers.Dense(256, activation='relu'),\n",
    "                        keras.layers.Dense(256,activation='relu'),\n",
    "                        keras.layers.Dense(2,activation='softmax')])\n",
    "    \n",
    "\n",
    "model2.summary()"
   ]
  },
  {
   "cell_type": "code",
   "execution_count": 57,
   "metadata": {},
   "outputs": [],
   "source": [
    "model2.compile(optimizer='adam', loss='sparse_categorical_crossentropy',metrics=['acc'])"
   ]
  },
  {
   "cell_type": "code",
   "execution_count": 58,
   "metadata": {
    "scrolled": false
   },
   "outputs": [
    {
     "name": "stdout",
     "output_type": "stream",
     "text": [
      "Epoch 1/1000\n",
      "28/28 - 4s - loss: 3.7926 - acc: 0.7080 - val_loss: 0.4434 - val_acc: 0.8345\n",
      "Epoch 2/1000\n",
      "28/28 - 3s - loss: 0.3928 - acc: 0.8974 - val_loss: 0.4740 - val_acc: 0.8615\n",
      "Epoch 3/1000\n",
      "28/28 - 3s - loss: 0.1215 - acc: 0.9662 - val_loss: 0.6199 - val_acc: 0.9155\n",
      "Epoch 4/1000\n",
      "28/28 - 3s - loss: 0.1853 - acc: 0.9763 - val_loss: 0.7222 - val_acc: 0.9155\n",
      "Epoch 5/1000\n",
      "28/28 - 3s - loss: 0.0353 - acc: 0.9921 - val_loss: 0.9515 - val_acc: 0.9122\n",
      "Epoch 6/1000\n",
      "28/28 - 3s - loss: 0.0229 - acc: 0.9921 - val_loss: 0.5421 - val_acc: 0.9054\n",
      "Restoring model weights from the end of the best epoch.\n",
      "Epoch 00006: early stopping\n"
     ]
    }
   ],
   "source": [
    "start = datetime.datetime.now()\n",
    "from tensorflow.keras.callbacks import EarlyStopping\n",
    "monitor = EarlyStopping(monitor='val_loss', min_delta=1e-3, patience=5, \n",
    "                        verbose=1, mode='auto', restore_best_weights=True)\n",
    "model2.fit(train_X,train_y,validation_data=(test_X,test_y),\n",
    "          callbacks=[monitor],verbose=2,epochs=1000)\n",
    "end = datetime.datetime.now()"
   ]
  },
  {
   "cell_type": "code",
   "execution_count": 59,
   "metadata": {},
   "outputs": [
    {
     "data": {
      "text/plain": [
       "datetime.timedelta(seconds=17, microseconds=656933)"
      ]
     },
     "execution_count": 59,
     "metadata": {},
     "output_type": "execute_result"
    }
   ],
   "source": [
    "end-start"
   ]
  },
  {
   "cell_type": "markdown",
   "metadata": {},
   "source": [
    "model2.save('VGG16.h5')"
   ]
  },
  {
   "cell_type": "markdown",
   "metadata": {},
   "source": [
    "# LIME explanations"
   ]
  },
  {
   "cell_type": "code",
   "execution_count": 149,
   "metadata": {
    "scrolled": true
   },
   "outputs": [
    {
     "data": {
      "text/plain": [
       "(224, 224, 3)"
      ]
     },
     "execution_count": 149,
     "metadata": {},
     "output_type": "execute_result"
    },
    {
     "data": {
      "image/png": "[encoded data removed]",
      "text/plain": [
       "<Figure size 432x288 with 1 Axes>"
      ]
     },
     "metadata": {
      "needs_background": "light"
     },
     "output_type": "display_data"
    }
   ],
   "source": [
    "import keras\n",
    "from keras.applications.imagenet_utils import decode_predictions\n",
    "import skimage.io \n",
    "import skimage.segmentation\n",
    "import copy\n",
    "import sklearn\n",
    "import sklearn.metrics\n",
    "from sklearn.linear_model import LinearRegression\n",
    "import warnings\n",
    "Xi = test_X[2]\n",
    "plt.imshow(Xi)\n",
    "Xi.shape"
   ]
  },
  {
   "cell_type": "code",
   "execution_count": 150,
   "metadata": {},
   "outputs": [],
   "source": [
    "np.set_printoptions(formatter={'float': lambda x: \"{0:0.3f}\".format(x)})"
   ]
  },
  {
   "cell_type": "code",
   "execution_count": 153,
   "metadata": {},
   "outputs": [],
   "source": [
    "preds = model2.predict(Xi[np.newaxis,:,:,:])"
   ]
  },
  {
   "cell_type": "code",
   "execution_count": 154,
   "metadata": {},
   "outputs": [
    {
     "data": {
      "text/plain": [
       "array([1, 0], dtype=int64)"
      ]
     },
     "execution_count": 154,
     "metadata": {},
     "output_type": "execute_result"
    }
   ],
   "source": [
    "top_pred_classes = preds[0].argsort()[-2:][::-1]\n",
    "top_pred_classes                #Index of top 5 classes"
   ]
  },
  {
   "cell_type": "markdown",
   "metadata": {},
   "source": [
    "# step 1: create perturbation of image"
   ]
  },
  {
   "cell_type": "markdown",
   "metadata": {},
   "source": [
    "extract super-pixels from image"
   ]
  },
  {
   "cell_type": "code",
   "execution_count": 155,
   "metadata": {},
   "outputs": [
    {
     "data": {
      "text/plain": [
       "29"
      ]
     },
     "execution_count": 155,
     "metadata": {},
     "output_type": "execute_result"
    }
   ],
   "source": [
    "superpixels = skimage.segmentation.quickshift(Xi, kernel_size=4,max_dist=200, ratio=0.2)\n",
    "num_superpixels = np.unique(superpixels).shape[0]\n",
    "num_superpixels"
   ]
  },
  {
   "cell_type": "code",
   "execution_count": 156,
   "metadata": {},
   "outputs": [
    {
     "data": {
      "text/plain": [
       "<matplotlib.image.AxesImage at 0x258af1f1130>"
      ]
     },
     "execution_count": 156,
     "metadata": {},
     "output_type": "execute_result"
    },
    {
     "data": {
      "image/png": "[encoded data removed]",
      "text/plain": [
       "<Figure size 432x288 with 1 Axes>"
      ]
     },
     "metadata": {
      "needs_background": "light"
     },
     "output_type": "display_data"
    }
   ],
   "source": [
    "skimage.io.imshow(skimage.segmentation.mark_boundaries(Xi, superpixels))"
   ]
  },
  {
   "cell_type": "markdown",
   "metadata": {},
   "source": [
    "create random perturbation"
   ]
  },
  {
   "cell_type": "code",
   "execution_count": 157,
   "metadata": {
    "scrolled": true
   },
   "outputs": [
    {
     "data": {
      "text/plain": [
       "array([1, 0, 1, 1, 0, 0, 1, 0, 1, 1, 1, 1, 0, 0, 1, 0, 1, 1, 1, 0, 0, 0,\n",
       "       0, 0, 0, 0, 0, 0, 1])"
      ]
     },
     "execution_count": 157,
     "metadata": {},
     "output_type": "execute_result"
    }
   ],
   "source": [
    "num_perturb = 150\n",
    "perturbations = np.random.binomial(1, 0.5, size=(num_perturb, num_superpixels))\n",
    "perturbations[0] #Show example of perturbation"
   ]
  },
  {
   "cell_type": "markdown",
   "metadata": {},
   "source": [
    "The following function perturb_image perturbs the given image (img) based on a perturbation vector (perturbation) and predefined superpixels (segments)."
   ]
  },
  {
   "cell_type": "code",
   "execution_count": 158,
   "metadata": {},
   "outputs": [],
   "source": [
    "def perturb_image(img,perturbation,segments):\n",
    "  active_pixels = np.where(perturbation == 1)[0]\n",
    "  mask = np.zeros(segments.shape)\n",
    "  for active in active_pixels:\n",
    "      mask[segments == active] = 1 \n",
    "  perturbed_image = copy.deepcopy(img)\n",
    "  perturbed_image = perturbed_image*mask[:,:,np.newaxis]\n",
    "  return perturbed_image"
   ]
  },
  {
   "cell_type": "code",
   "execution_count": 159,
   "metadata": {},
   "outputs": [
    {
     "name": "stderr",
     "output_type": "stream",
     "text": [
      "C:\\Users\\cheny\\anaconda3\\lib\\site-packages\\skimage\\io\\_plugins\\matplotlib_plugin.py:150: UserWarning: Float image out of standard range; displaying image with stretched contrast.\n",
      "  lo, hi, cmap = _get_display_range(image)\n",
      "WARNING:matplotlib.image:Clipping input data to the valid range for imshow with RGB data ([0..1] for floats or [0..255] for integers).\n"
     ]
    },
    {
     "data": {
      "text/plain": [
       "<matplotlib.image.AxesImage at 0x258af259190>"
      ]
     },
     "execution_count": 159,
     "metadata": {},
     "output_type": "execute_result"
    },
    {
     "data": {
      "image/png": "[encoded data removed]",
      "text/plain": [
       "<Figure size 432x288 with 2 Axes>"
      ]
     },
     "metadata": {
      "needs_background": "light"
     },
     "output_type": "display_data"
    }
   ],
   "source": [
    "skimage.io.imshow(perturb_image(Xi,perturbations[0],superpixels))"
   ]
  },
  {
   "cell_type": "markdown",
   "metadata": {},
   "source": [
    "# Step 2: Using ML classifier to predict classes of new generated images(VGG16)"
   ]
  },
  {
   "cell_type": "code",
   "execution_count": 160,
   "metadata": {},
   "outputs": [
    {
     "data": {
      "text/plain": [
       "(150, 1, 2)"
      ]
     },
     "execution_count": 160,
     "metadata": {},
     "output_type": "execute_result"
    }
   ],
   "source": [
    "predictions = []\n",
    "for pert in perturbations:\n",
    "  perturbed_img = perturb_image(Xi,pert,superpixels)\n",
    "  pred = model3.predict(perturbed_img[np.newaxis,:,:,:])\n",
    "  predictions.append(pred)\n",
    "\n",
    "predictions = np.array(predictions)\n",
    "predictions.shape"
   ]
  },
  {
   "cell_type": "markdown",
   "metadata": {},
   "source": [
    "# Step3: Compute distances between the original image and each of the perturbed images and compute weights (importance) of each perturbed image"
   ]
  },
  {
   "cell_type": "markdown",
   "metadata": {},
   "source": [
    "The distance between each randomly generated perturnation and the image being explained is computed using the cosine distance. For the shape of the distances array it can be noted that, as expected, there is a distance for every generated perturbation."
   ]
  },
  {
   "cell_type": "code",
   "execution_count": 161,
   "metadata": {},
   "outputs": [
    {
     "data": {
      "text/plain": [
       "(150,)"
      ]
     },
     "execution_count": 161,
     "metadata": {},
     "output_type": "execute_result"
    }
   ],
   "source": [
    "original_image = np.ones(num_superpixels)[np.newaxis,:] #Perturbation with all superpixels enabled \n",
    "distances = sklearn.metrics.pairwise_distances(perturbations,original_image, metric='cosine').ravel()\n",
    "distances.shape"
   ]
  },
  {
   "cell_type": "markdown",
   "metadata": {},
   "source": [
    "Use kernel function to compute weights\n",
    "The distances are then mapped to a value between zero and one (weight) using a kernel function. An example of a kernel function with different kernel widths is shown in the plot below. Here the x axis represents distances and the y axis the weights. Depeding on how we set the kernel width, it defines how wide we want the \"locality\" around our instance to be. This kernel width can be set based on expected distance values. For the case of cosine distances, we expect them to be somehow stable (between 0 and 1); therefore, no fine tunning of the kernel width might be required."
   ]
  },
  {
   "cell_type": "markdown",
   "metadata": {},
   "source": [
    "![title](kernel.png)"
   ]
  },
  {
   "cell_type": "code",
   "execution_count": 162,
   "metadata": {},
   "outputs": [
    {
     "data": {
      "text/plain": [
       "(150,)"
      ]
     },
     "execution_count": 162,
     "metadata": {},
     "output_type": "execute_result"
    }
   ],
   "source": [
    "kernel_width = 0.25\n",
    "weights = np.sqrt(np.exp(-(distances**2)/kernel_width**2)) #Kernel function\n",
    "weights.shape"
   ]
  },
  {
   "cell_type": "markdown",
   "metadata": {},
   "source": [
    "# Step4: Use perturbations, predictions and weights to fit an explainable(linear) model"
   ]
  },
  {
   "cell_type": "markdown",
   "metadata": {},
   "source": [
    "A weighed linear regression model is fitted using data from the previous steps (perturbations, predictions and weights). Given that the class that we want to explain is prestine MP, when fitting the linear model we take from the predictions vector only the column corresponding to the top predicted class. Each coefficients in the linear model corresponds to one superpixel in the segmented image. These coefficients represent how important is each superpixel for the prediction of MP type."
   ]
  },
  {
   "cell_type": "code",
   "execution_count": 163,
   "metadata": {},
   "outputs": [
    {
     "data": {
      "text/plain": [
       "array([0.038, -0.150, -0.012, -0.108, -0.234, 0.342, -0.017, -0.032,\n",
       "       -0.085, -0.087, -0.100, -0.070, 0.377, 0.009, -0.012, -0.082,\n",
       "       -0.179, 0.140, 0.097, 0.050, 0.033, 0.053, 0.130, 0.017, 0.146,\n",
       "       0.021, -0.026, -0.068, 0.136])"
      ]
     },
     "execution_count": 163,
     "metadata": {},
     "output_type": "execute_result"
    }
   ],
   "source": [
    "class_to_explain = top_pred_classes[0]\n",
    "simpler_model = LinearRegression()\n",
    "simpler_model.fit(X=perturbations, y=predictions[:,:,class_to_explain], sample_weight=weights)\n",
    "coeff = simpler_model.coef_[0]\n",
    "coeff"
   ]
  },
  {
   "cell_type": "code",
   "execution_count": 164,
   "metadata": {},
   "outputs": [
    {
     "data": {
      "text/plain": [
       "array([17, 24,  5, 12], dtype=int64)"
      ]
     },
     "execution_count": 164,
     "metadata": {},
     "output_type": "execute_result"
    }
   ],
   "source": [
    "num_top_features = 4\n",
    "top_features = np.argsort(coeff)[-num_top_features:] \n",
    "top_features"
   ]
  },
  {
   "cell_type": "code",
   "execution_count": 165,
   "metadata": {},
   "outputs": [
    {
     "name": "stderr",
     "output_type": "stream",
     "text": [
      "C:\\Users\\cheny\\anaconda3\\lib\\site-packages\\skimage\\io\\_plugins\\matplotlib_plugin.py:150: UserWarning: Float image out of standard range; displaying image with stretched contrast.\n",
      "  lo, hi, cmap = _get_display_range(image)\n",
      "WARNING:matplotlib.image:Clipping input data to the valid range for imshow with RGB data ([0..1] for floats or [0..255] for integers).\n"
     ]
    },
    {
     "data": {
      "text/plain": [
       "<matplotlib.image.AxesImage at 0x2564618a9a0>"
      ]
     },
     "execution_count": 165,
     "metadata": {},
     "output_type": "execute_result"
    },
    {
     "data": {
      "image/png": "[encoded data removed]",
      "text/plain": [
       "<Figure size 432x288 with 2 Axes>"
      ]
     },
     "metadata": {
      "needs_background": "light"
     },
     "output_type": "display_data"
    }
   ],
   "source": [
    "mask = np.zeros(num_superpixels) \n",
    "mask[top_features]= True #Activate top superpixels\n",
    "skimage.io.imshow(perturb_image(Xi,mask,superpixels) )"
   ]
  },
  {
   "cell_type": "markdown",
   "metadata": {},
   "source": [
    "# RES50"
   ]
  },
  {
   "cell_type": "code",
   "execution_count": 166,
   "metadata": {},
   "outputs": [
    {
     "data": {
      "text/plain": [
       "(150, 1, 2)"
      ]
     },
     "execution_count": 166,
     "metadata": {},
     "output_type": "execute_result"
    }
   ],
   "source": [
    "predictions = []\n",
    "for pert in perturbations:\n",
    "  perturbed_img = perturb_image(Xi,pert,superpixels)\n",
    "  pred = model3.predict(perturbed_img[np.newaxis,:,:,:])\n",
    "  predictions.append(pred)\n",
    "\n",
    "predictions = np.array(predictions)\n",
    "predictions.shape"
   ]
  },
  {
   "cell_type": "code",
   "execution_count": 167,
   "metadata": {},
   "outputs": [
    {
     "data": {
      "text/plain": [
       "array([0.038, -0.150, -0.012, -0.108, -0.234, 0.342, -0.017, -0.032,\n",
       "       -0.085, -0.087, -0.100, -0.070, 0.377, 0.009, -0.012, -0.082,\n",
       "       -0.179, 0.140, 0.097, 0.050, 0.033, 0.053, 0.130, 0.017, 0.146,\n",
       "       0.021, -0.026, -0.068, 0.136])"
      ]
     },
     "execution_count": 167,
     "metadata": {},
     "output_type": "execute_result"
    }
   ],
   "source": [
    "class_to_explain = top_pred_classes[0]\n",
    "simpler_model = LinearRegression()\n",
    "simpler_model.fit(X=perturbations, y=predictions[:,:,class_to_explain], sample_weight=weights)\n",
    "coeff = simpler_model.coef_[0]\n",
    "coeff"
   ]
  },
  {
   "cell_type": "code",
   "execution_count": 168,
   "metadata": {},
   "outputs": [
    {
     "data": {
      "text/plain": [
       "array([17, 24,  5, 12], dtype=int64)"
      ]
     },
     "execution_count": 168,
     "metadata": {},
     "output_type": "execute_result"
    }
   ],
   "source": [
    "num_top_features = 4\n",
    "top_features = np.argsort(coeff)[-num_top_features:] \n",
    "top_features"
   ]
  },
  {
   "cell_type": "code",
   "execution_count": 169,
   "metadata": {
    "scrolled": false
   },
   "outputs": [
    {
     "name": "stderr",
     "output_type": "stream",
     "text": [
      "C:\\Users\\cheny\\anaconda3\\lib\\site-packages\\skimage\\io\\_plugins\\matplotlib_plugin.py:150: UserWarning: Float image out of standard range; displaying image with stretched contrast.\n",
      "  lo, hi, cmap = _get_display_range(image)\n",
      "WARNING:matplotlib.image:Clipping input data to the valid range for imshow with RGB data ([0..1] for floats or [0..255] for integers).\n"
     ]
    },
    {
     "data": {
      "text/plain": [
       "<matplotlib.image.AxesImage at 0x258bfc24f70>"
      ]
     },
     "execution_count": 169,
     "metadata": {},
     "output_type": "execute_result"
    },
    {
     "data": {
      "image/png": "[encoded data removed]",
      "text/plain": [
       "<Figure size 432x288 with 2 Axes>"
      ]
     },
     "metadata": {
      "needs_background": "light"
     },
     "output_type": "display_data"
    }
   ],
   "source": [
    "mask = np.zeros(num_superpixels) \n",
    "mask[top_features]= True #Activate top superpixels\n",
    "skimage.io.imshow(perturb_image(Xi,mask,superpixels) )"
   ]
  },
  {
   "cell_type": "code",
   "execution_count": 170,
   "metadata": {},
   "outputs": [
    {
     "data": {
      "text/plain": [
       "(246,)"
      ]
     },
     "execution_count": 170,
     "metadata": {},
     "output_type": "execute_result"
    }
   ],
   "source": [
    "test_y.shape"
   ]
  },
  {
   "cell_type": "code",
   "execution_count": 171,
   "metadata": {},
   "outputs": [],
   "source": [
    "import sklearn.metrics as metrics\n",
    "\n",
    "y_pred_ohe = model2.predict(test_X)  # shape=(n_samples, 12)\n",
    "y_pred_labels = np.argmax(y_pred_ohe, axis=1)  # only necessary if output has one-hot-encoding, shape=(n_samples)\n",
    "\n",
    "cm = metrics.confusion_matrix(y_true=test_y, y_pred=y_pred_labels)  # shape=(12, 12)"
   ]
  },
  {
   "cell_type": "code",
   "execution_count": 172,
   "metadata": {},
   "outputs": [],
   "source": [
    "import itertools\n",
    "import numpy as np\n",
    "import matplotlib.pyplot as plt\n",
    "import matplotlib.pylab as pylab\n",
    "\n",
    "def plot_confusion_matrix(cm, classes, normalize=True, title='Confusion matrix', cmap=plt.cm.Blues):\n",
    "    if normalize:\n",
    "        cm = cm.astype('float') / cm.sum(axis=1)[:, np.newaxis]\n",
    "        print(\"Normalized confusion matrix\")\n",
    "    else:\n",
    "        print('Confusion matrix, without normalization')\n",
    "\n",
    "    print(cm)\n",
    "    plt.imshow(cm, interpolation='antialiased', cmap=cmap)\n",
    "    \n",
    "    plt.tick_params(\n",
    "    axis='both',          # changes apply to the x-axis\n",
    "    which='both',      # both major and minor ticks are affected\n",
    "    bottom=False,      # ticks along the bottom edge are off\n",
    "    top=False,         # ticks along the top edge are off\n",
    "    labelbottom=False,\n",
    "    length=0, width=0)\n",
    "    \n",
    "    font = {'family' : 'normal',\n",
    "        'size'   : 22}\n",
    "    params = {'legend.fontsize': 'x-small',\n",
    "          'figure.figsize': (10, 10),\n",
    "         'axes.labelsize': 'medium',\n",
    "         'axes.titlesize':'medium',\n",
    "         'xtick.labelsize':'medium',\n",
    "         'ytick.labelsize':'medium'}\n",
    "    pylab.rcParams.update(params)\n",
    "\n",
    "    plt.rc('font', **font)\n",
    "    plt.colorbar()\n",
    "    \n",
    "    \n",
    "\n",
    "    fmt = '.3f' if normalize else 'd'\n",
    "    thresh = cm.max() / 2.\n",
    "    for i, j in itertools.product(range(cm.shape[0]), range(cm.shape[1])):\n",
    "        plt.text(j, i, format(cm[i, j], fmt), horizontalalignment=\"center\", color=\"white\" if cm[i, j] > thresh else \"black\")\n",
    "\n",
    "   \n",
    "   "
   ]
  },
  {
   "cell_type": "code",
   "execution_count": 173,
   "metadata": {
    "scrolled": false
   },
   "outputs": [
    {
     "name": "stderr",
     "output_type": "stream",
     "text": [
      "WARNING:matplotlib.font_manager:findfont: Font family ['normal'] not found. Falling back to DejaVu Sans.\n"
     ]
    },
    {
     "name": "stdout",
     "output_type": "stream",
     "text": [
      "Normalized confusion matrix\n",
      "[[0.870 0.130]\n",
      " [0.123 0.877]]\n"
     ]
    },
    {
     "data": {
      "image/png": "[encoded data removed]",
      "text/plain": [
       "<Figure size 720x720 with 2 Axes>"
      ]
     },
     "metadata": {
      "needs_background": "light"
     },
     "output_type": "display_data"
    }
   ],
   "source": [
    "classes=['before21', 'after21']\n",
    "plt.figure(figsize=(10,10))\n",
    "plot_confusion_matrix(cm, classes)"
   ]
  },
  {
   "cell_type": "code",
   "execution_count": 174,
   "metadata": {},
   "outputs": [
    {
     "name": "stdout",
     "output_type": "stream",
     "text": [
      "Normalized confusion matrix\n",
      "[[0.946 0.054]\n",
      " [0.032 0.968]]\n"
     ]
    },
    {
     "data": {
      "image/png": "[encoded data removed]",
      "text/plain": [
       "<Figure size 720x720 with 2 Axes>"
      ]
     },
     "metadata": {
      "needs_background": "light"
     },
     "output_type": "display_data"
    }
   ],
   "source": [
    "y_pred_ohe = model3.predict(test_X)  # shape=(n_samples, 12)\n",
    "y_pred_labels = np.argmax(y_pred_ohe, axis=1)  # only necessary if output has one-hot-encoding, shape=(n_samples)\n",
    "\n",
    "cm = metrics.confusion_matrix(y_true=test_y, y_pred=y_pred_labels)  # shape=(12, 12)\n",
    "plt.figure(figsize=(10,10))\n",
    "plot_confusion_matrix(cm, classes)"
   ]
  }
 ],
 "metadata": {
  "kernelspec": {
   "display_name": "Python 3",
   "language": "python",
   "name": "python3"
  },
  "language_info": {
   "codemirror_mode": {
    "name": "ipython",
    "version": 3
   },
   "file_extension": ".py",
   "mimetype": "text/x-python",
   "name": "python",
   "nbconvert_exporter": "python",
   "pygments_lexer": "ipython3",
   "version": "3.8.3"
  }
 },
 "nbformat": 4,
 "nbformat_minor": 4
}
